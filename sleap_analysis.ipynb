{
 "cells": [
  {
   "cell_type": "code",
   "execution_count": 1,
   "metadata": {},
   "outputs": [],
   "source": [
    "%load_ext autoreload\n",
    "%autoreload 2\n",
    "import sys\n",
    "import os\n",
    "project_root = os.path.abspath(\"\")\n",
    "if project_root not in sys.path:\n",
    "    sys.path.append(project_root)\n",
    "import sleap\n",
    "from pathlib import Path\n",
    "from ipywidgets import widgets\n",
    "from IPython.display import display\n",
    "\n",
    "%matplotlib widget"
   ]
  },
  {
   "cell_type": "code",
   "execution_count": 3,
   "metadata": {},
   "outputs": [
    {
     "name": "stdout",
     "output_type": "stream",
     "text": [
      "Saved to: /Volumes/harris/hypnose/derivatives/sub-038_id-235/ses-008_date-20251027/saved_analysis_results/sleap_tracking_video3.csv\n",
      "\n",
      "Total frames processed: 17114\n",
      "Frame index range: 0 - 18473\n",
      "Frames with valid centroid: 17114\n",
      "\n",
      "Centroid score range: 0.2036 - 1.1391\n"
     ]
    }
   ],
   "source": [
    "import sleap\n",
    "import pandas as pd\n",
    "from pathlib import Path\n",
    "\n",
    "video_number = 3\n",
    "slp_path = Path(\"/Users/joschua/repos/harris_lab/sleap-hypnose/predictions/sub_38_20251027_video3.v001.slp.251031_175928.predictions.slp\")\n",
    "output_path = Path(f\"/Volumes/harris/hypnose/derivatives/sub-038_id-235/ses-008_date-20251027/saved_analysis_results/sleap_tracking_video{video_number}.csv\")\n",
    "output_path.parent.mkdir(parents=True, exist_ok=True)\n",
    "\n",
    "# Load predictions\n",
    "labels = sleap.load_file(str(slp_path))\n",
    "\n",
    "# Extract all node positions for all frames\n",
    "data = []\n",
    "for lf in labels:\n",
    "    frame_idx = lf.frame_idx\n",
    "    for instance_idx, instance in enumerate(lf.instances):\n",
    "        row = {\"frame\": frame_idx, \"instance\": instance_idx}\n",
    "        for node, point in instance.nodes_points:\n",
    "            row[f\"{node.name}_x\"] = point.x\n",
    "            row[f\"{node.name}_y\"] = point.y\n",
    "            row[f\"{node.name}_score\"] = point.score\n",
    "        data.append(row)\n",
    "\n",
    "df = pd.DataFrame(data)\n",
    "\n",
    "# Calculate centroid from core nodes\n",
    "core_nodes = ['right_ear', 'left_ear', 'center_head', 'neck', 'center', 'center_back']\n",
    "centroid_x_cols = [f\"{node}_x\" for node in core_nodes]\n",
    "centroid_y_cols = [f\"{node}_y\" for node in core_nodes]\n",
    "centroid_score_cols = [f\"{node}_score\" for node in core_nodes]\n",
    "\n",
    "df['centroid_x'] = df[centroid_x_cols].mean(axis=1)\n",
    "df['centroid_y'] = df[centroid_y_cols].mean(axis=1)\n",
    "df['centroid_score'] = df[centroid_score_cols].mean(axis=1)\n",
    "\n",
    "# Save to CSV\n",
    "df.to_csv(output_path, index=False)\n",
    "\n",
    "# Summary output\n",
    "print(f\"Saved to: {output_path}\")\n",
    "print(f\"\\nTotal frames processed: {len(df)}\")\n",
    "print(f\"Frame index range: {int(df['frame'].min())} - {int(df['frame'].max())}\")\n",
    "print(f\"Frames with valid centroid: {df['centroid_x'].notna().sum()}\")\n",
    "print(f\"\\nCentroid score range: {df['centroid_score'].min():.4f} - {df['centroid_score'].max():.4f}\")\n"
   ]
  }
 ],
 "metadata": {
  "kernelspec": {
   "display_name": "sleap",
   "language": "python",
   "name": "python3"
  },
  "language_info": {
   "codemirror_mode": {
    "name": "ipython",
    "version": 3
   },
   "file_extension": ".py",
   "mimetype": "text/x-python",
   "name": "python",
   "nbconvert_exporter": "python",
   "pygments_lexer": "ipython3",
   "version": "3.9.15"
  }
 },
 "nbformat": 4,
 "nbformat_minor": 2
}
