{
 "cells": [
  {
   "cell_type": "code",
   "execution_count": 9,
   "metadata": {},
   "outputs": [
    {
     "name": "stdout",
     "output_type": "stream",
     "text": [
      "The autoreload extension is already loaded. To reload it, use:\n",
      "  %reload_ext autoreload\n"
     ]
    }
   ],
   "source": [
    "%load_ext autoreload\n",
    "%autoreload 2\n",
    "import sys\n",
    "import os\n",
    "project_root = os.path.abspath(\"/Users/joschua/repos/harris_lab/hypnose/hypnose-analysis\")\n",
    "if project_root not in sys.path:\n",
    "    sys.path.append(project_root)\n",
    "import pandas as pd\n",
    "import numpy as np \n",
    "from pathlib import Path\n",
    "import behavioral_metrics\n",
    "from behavioral_metrics import * \n",
    "import harp\n",
    "from ipywidgets import widgets\n",
    "from IPython.display import display\n",
    "\n",
    "\n",
    "\n",
    "%matplotlib widget"
   ]
  },
  {
   "cell_type": "code",
   "execution_count": 12,
   "metadata": {},
   "outputs": [
    {
     "name": "stdout",
     "output_type": "stream",
     "text": [
      "Found 1 subject directories.\n",
      "\n",
      "--- Decision Accuracy ---\n",
      "Decision Accuracy: 51/70 = 0.729\n",
      "\n",
      "--- Premature Response Rate ---\n",
      "Premature Response Rate: 34/41 = 0.829\n",
      "\n",
      "--- Response-Contingent False Alarm Rate ---\n",
      "Response-Contingent False Alarm Rate: 34/104 = 0.327\n",
      "\n",
      "--- Global False Alarm Rate ---\n",
      "Global False Alarm Rate: 34/111 = 0.306\n",
      "\n",
      "--- FA Odor Bias ---\n",
      "FA Odor Bias for FA Time In:\n",
      "OdorC: 0/3 FA, Bias: 0.000\n",
      "OdorD: 0/10 FA, Bias: 0.000\n",
      "OdorE: 3/14 FA, Bias: 2.929\n",
      "OdorF: 0/1 FA, Bias: 0.000\n",
      "OdorG: 0/13 FA, Bias: 0.000\n",
      "\n",
      "--- FA Position Bias ---\n",
      "FA Position Bias for FA Time In:\n",
      "Position 1: 0/4 FA, Bias: 0.000\n",
      "Position 2: 0/25 FA, Bias: 0.000\n",
      "Position 3: 0/8 FA, Bias: 0.000\n",
      "Position 4: 3/4 FA, Bias: 10.250\n",
      "\n",
      "--- Sequence Completion Rate ---\n",
      "Sequence Completion Rate: 70/111 = 0.631\n",
      "\n",
      "--- Odor Abortion Rate ---\n",
      "OdorA: 0/38 abortions, Rate: 0.000\n",
      "OdorB: 0/33 abortions, Rate: 0.000\n",
      "OdorC: 3/58 abortions, Rate: 0.052\n",
      "OdorD: 10/84 abortions, Rate: 0.119\n",
      "OdorE: 14/89 abortions, Rate: 0.157\n",
      "OdorF: 1/53 abortions, Rate: 0.019\n",
      "OdorG: 13/94 abortions, Rate: 0.138\n",
      "\n",
      "--- Hidden Rule Performance ---\n",
      "Hidden Rule Performance: 0/110 = 0.000\n",
      "\n",
      "--- Hidden Rule Detection Rate ---\n",
      "Hidden Rule Detection Rate: 0/110 = 0.000\n",
      "\n",
      "--- Choice Timeout Rate ---\n",
      "Choice Timeout Rate: 0/70 = 0.000\n",
      "\n",
      "--- Average Sampling Time per Odor (Completed) ---\n",
      "OdorA Average Sampling Time: 477.81 ms\n",
      "OdorB Average Sampling Time: 495.30 ms\n",
      "OdorC Average Sampling Time: 878.25 ms\n",
      "OdorD Average Sampling Time: 910.27 ms\n",
      "OdorE Average Sampling Time: 942.27 ms\n",
      "OdorF Average Sampling Time: 867.75 ms\n",
      "OdorG Average Sampling Time: 911.60 ms\n",
      "\n",
      "--- Average Sampling Time (Completed Sequences) ---\n",
      "Average Sampling Time (Completed Sequences): 824.46 ms\n",
      "\n",
      "--- Average Sampling Time (Aborted Sequences) ---\n",
      "Average Sampling Time (Aborted Sequences): 689.17 ms\n",
      "\n",
      "--- Average Sampling Time (Initiation Abortions) ---\n",
      "Average Sampling Time (Initiation Abortions): 243.55 ms\n",
      "\n",
      "--- Abortion Rate by Position ---\n",
      "Position 1: 4/180 abortions, Rate: 0.022\n",
      "Position 2: 25/176 abortions, Rate: 0.142\n",
      "Position 3: 8/151 abortions, Rate: 0.053\n",
      "Position 4: 4/143 abortions, Rate: 0.028\n",
      "Position 5: 0/138 abortions, Rate: 0.000\n",
      "\n",
      "--- Average Response Time ---\n",
      "Rewarded: 1462.1 ms (n=51)\n",
      "Unrewarded: 1616.0 ms (n=19)\n",
      "Reward Timeout: nan ms (n=0)\n",
      "Average Response Time (Rewarded + Unrewarded): 1503.8 ms (n=70)\n",
      "\n",
      "--- FA Average Response Times ---\n",
      "Non-Initiated FA Response Times:\n",
      "  - FA Time In: avg=1944.9 ms, median=1944.9 ms, n=1\n",
      "  - FA Late: avg=365310.1 ms, median=451344.8 ms, n=3\n",
      "\n",
      "Aborted Trials FA Response Times:\n",
      "  - FA Time In: avg=1433.7 ms, median=1372.4 ms, n=3\n",
      "  - FA Time Out: avg=2081.1 ms, median=2081.1 ms, n=2\n",
      "  - FA Late: avg=83150.3 ms, median=9430.2 ms, n=29\n",
      "\n",
      "\n",
      "--- Response Rate ---\n",
      "Response Rate: 70/70 = 1.000\n",
      "\n",
      "--- Manual vs Auto Stop Preference ---\n",
      "Manual Stops: 114\n",
      "Auto Stops: 235\n",
      "Manual vs Auto Stop: 0.49\n",
      "\n",
      "--- Non-Initiated FA Rate ---\n",
      "Non-Initiated FA Rate: 4/34 = 0.118\n",
      "\n",
      "--- Non-Initiation Odor Bias ---\n",
      "OdorC: 15/72 non-initiated, Bias: 0.888\n",
      "OdorD: 2/2 non-initiated, Bias: 4.265\n",
      "OdorF: 15/68 non-initiated, Bias: 0.941\n",
      "OdorG: 2/3 non-initiated, Bias: 2.843\n",
      "\n",
      "--- Odor Initiation Bias ---\n",
      "OdorC: 0/3 initiation abortions, Bias: 0.000\n",
      "OdorD: 10/10 initiation abortions, Bias: 1.206\n",
      "OdorE: 11/14 initiation abortions, Bias: 0.947\n",
      "OdorF: 0/1 initiation abortions, Bias: 0.000\n",
      "OdorG: 13/13 initiation abortions, Bias: 1.206\n",
      "\n",
      "--- FA Abortion Stats ---\n",
      "\n",
      "FA Abortion Stats by Odor:\n",
      " Odor  Total Abortions FA Abortion Rate FA Time In FA Time Out   FA Late\n",
      "OdorC                3       2/3 (0.67)   0 (0.00)    0 (0.00)  2 (0.67)\n",
      "OdorD               10      8/10 (0.80)   0 (0.00)    1 (0.10)  7 (0.70)\n",
      "OdorE               14     13/14 (0.93)   3 (0.21)    0 (0.00) 10 (0.71)\n",
      "OdorF                1       1/1 (1.00)   0 (0.00)    0 (0.00)  1 (1.00)\n",
      "OdorG               13     10/13 (0.77)   0 (0.00)    1 (0.08)  9 (0.69)\n",
      "\n",
      "FA Abortion Stats by Position:\n",
      " Position  Total Abortions FA Abortion Rate FA Time In FA Time Out   FA Late\n",
      "        1                4       3/4 (0.75)   0 (0.00)    0 (0.00)  3 (0.75)\n",
      "        2               25     21/25 (0.84)   0 (0.00)    1 (0.04) 20 (0.80)\n",
      "        3                8       6/8 (0.75)   0 (0.00)    1 (0.12)  5 (0.62)\n",
      "        4                4       4/4 (1.00)   3 (0.75)    0 (0.00)  1 (0.25)\n",
      "\n",
      "FA Abortion Stats by Odor and Position:\n",
      " Odor  Position  Total Abortions FA Abortion Rate FA Time In FA Time Out  FA Late\n",
      "OdorC         1                3       2/3 (0.67)   0 (0.00)    0 (0.00) 2 (0.67)\n",
      "OdorD         2                5       4/5 (0.80)   0 (0.00)    0 (0.00) 4 (0.80)\n",
      "OdorD         3                4       3/4 (0.75)   0 (0.00)    1 (0.25) 2 (0.50)\n",
      "OdorD         4                1       1/1 (1.00)   0 (0.00)    0 (0.00) 1 (1.00)\n",
      "OdorE         2                9       8/9 (0.89)   0 (0.00)    0 (0.00) 8 (0.89)\n",
      "OdorE         3                2       2/2 (1.00)   0 (0.00)    0 (0.00) 2 (1.00)\n",
      "OdorE         4                3       3/3 (1.00)   3 (1.00)    0 (0.00) 0 (0.00)\n",
      "OdorF         1                1       1/1 (1.00)   0 (0.00)    0 (0.00) 1 (1.00)\n",
      "OdorG         2               11      9/11 (0.82)   0 (0.00)    1 (0.09) 8 (0.73)\n",
      "OdorG         3                2       1/2 (0.50)   0 (0.00)    0 (0.00) 1 (0.50)\n",
      "\n",
      "Saved metrics summary to /Volumes/harris/hypnose/derivatives/sub-026_id-077/ses-128_date-20250917/saved_analysis_results/metrics_26_20250917.txt\n",
      "Saved metrics values to /Volumes/harris/hypnose/derivatives/sub-026_id-077/ses-128_date-20250917/saved_analysis_results/metrics_26_20250917.json\n",
      "Processed subjid=26, date=20250917\n",
      "\n",
      "--- Decision Accuracy ---\n",
      "Decision Accuracy: 110/117 = 0.940\n",
      "\n",
      "--- Premature Response Rate ---\n",
      "Premature Response Rate: 53/59 = 0.898\n",
      "\n",
      "--- Response-Contingent False Alarm Rate ---\n",
      "Response-Contingent False Alarm Rate: 53/170 = 0.312\n",
      "\n",
      "--- Global False Alarm Rate ---\n",
      "Global False Alarm Rate: 53/179 = 0.296\n",
      "\n",
      "--- FA Odor Bias ---\n",
      "FA Odor Bias for FA Time In:\n",
      "OdorA: 3/5 FA, Bias: 3.218\n",
      "OdorC: 0/3 FA, Bias: 0.000\n",
      "OdorD: 0/13 FA, Bias: 0.000\n",
      "OdorE: 5/23 FA, Bias: 1.166\n",
      "OdorG: 3/15 FA, Bias: 1.073\n",
      "\n",
      "--- FA Position Bias ---\n",
      "FA Position Bias for FA Time In:\n",
      "Position 1: 0/3 FA, Bias: 0.000\n",
      "Position 2: 1/40 FA, Bias: 0.134\n",
      "Position 3: 2/6 FA, Bias: 1.788\n",
      "Position 4: 5/5 FA, Bias: 5.364\n",
      "Position 5: 3/5 FA, Bias: 3.218\n",
      "\n",
      "--- Sequence Completion Rate ---\n",
      "Sequence Completion Rate: 120/179 = 0.670\n",
      "\n",
      "--- Odor Abortion Rate ---\n",
      "OdorA: 5/69 abortions, Rate: 0.072\n",
      "OdorB: 0/57 abortions, Rate: 0.000\n",
      "OdorC: 3/86 abortions, Rate: 0.035\n",
      "OdorD: 13/146 abortions, Rate: 0.089\n",
      "OdorE: 23/153 abortions, Rate: 0.150\n",
      "OdorF: 0/100 abortions, Rate: 0.000\n",
      "OdorG: 15/147 abortions, Rate: 0.102\n",
      "\n",
      "--- Hidden Rule Performance ---\n",
      "Hidden Rule Performance: 0/179 = 0.000\n",
      "\n",
      "--- Hidden Rule Detection Rate ---\n",
      "Hidden Rule Detection Rate: 0/179 = 0.000\n",
      "\n",
      "--- Choice Timeout Rate ---\n",
      "Choice Timeout Rate: 3/120 = 0.025\n",
      "\n",
      "--- Average Sampling Time per Odor (Completed) ---\n",
      "OdorA Average Sampling Time: 491.76 ms\n",
      "OdorB Average Sampling Time: 523.83 ms\n",
      "OdorC Average Sampling Time: 887.01 ms\n",
      "OdorD Average Sampling Time: 926.79 ms\n",
      "OdorE Average Sampling Time: 948.28 ms\n",
      "OdorF Average Sampling Time: 881.84 ms\n",
      "OdorG Average Sampling Time: 886.38 ms\n",
      "\n",
      "--- Average Sampling Time (Completed Sequences) ---\n",
      "Average Sampling Time (Completed Sequences): 830.48 ms\n",
      "\n",
      "--- Average Sampling Time (Aborted Sequences) ---\n",
      "Average Sampling Time (Aborted Sequences): 785.87 ms\n",
      "\n",
      "--- Average Sampling Time (Initiation Abortions) ---\n",
      "Average Sampling Time (Initiation Abortions): 196.89 ms\n",
      "\n",
      "--- Abortion Rate by Position ---\n",
      "Position 1: 3/299 abortions, Rate: 0.010\n",
      "Position 2: 40/296 abortions, Rate: 0.135\n",
      "Position 3: 6/256 abortions, Rate: 0.023\n",
      "Position 4: 5/250 abortions, Rate: 0.020\n",
      "Position 5: 5/245 abortions, Rate: 0.020\n",
      "\n",
      "--- Average Response Time ---\n",
      "Rewarded: 1530.2 ms (n=110)\n",
      "Unrewarded: 1617.0 ms (n=7)\n",
      "Reward Timeout: 3372.1 ms (n=3)\n",
      "Average Response Time (Rewarded + Unrewarded): 1535.4 ms (n=117)\n",
      "\n",
      "--- FA Average Response Times ---\n",
      "Non-Initiated FA Response Times:\n",
      "  - FA Time In: avg=1930.0 ms, median=1930.0 ms, n=1\n",
      "  - FA Late: avg=331436.3 ms, median=372062.1 ms, n=3\n",
      "\n",
      "Aborted Trials FA Response Times:\n",
      "  - FA Time In: avg=1484.3 ms, median=1371.0 ms, n=11\n",
      "  - FA Time Out: avg=3200.5 ms, median=2200.9 ms, n=7\n",
      "  - FA Late: avg=41434.7 ms, median=8463.6 ms, n=35\n",
      "\n",
      "\n",
      "--- Response Rate ---\n",
      "Response Rate: 117/120 = 0.975\n",
      "\n",
      "--- Manual vs Auto Stop Preference ---\n",
      "Manual Stops: 181\n",
      "Auto Stops: 419\n",
      "Manual vs Auto Stop: 0.43\n",
      "\n",
      "--- Non-Initiated FA Rate ---\n",
      "Non-Initiated FA Rate: 4/80 = 0.050\n",
      "\n",
      "--- Non-Initiation Odor Bias ---\n",
      "OdorC: 40/40 non-initiated, Bias: 1.000\n",
      "OdorE: 3/3 non-initiated, Bias: 1.000\n",
      "OdorF: 37/37 non-initiated, Bias: 1.000\n",
      "\n",
      "--- Odor Initiation Bias ---\n",
      "OdorA: 5/5 initiation abortions, Bias: 1.204\n",
      "OdorC: 0/3 initiation abortions, Bias: 0.000\n",
      "OdorD: 13/13 initiation abortions, Bias: 1.204\n",
      "OdorE: 17/23 initiation abortions, Bias: 0.890\n",
      "OdorG: 14/15 initiation abortions, Bias: 1.124\n",
      "\n",
      "--- FA Abortion Stats ---\n",
      "\n",
      "FA Abortion Stats by Odor:\n",
      " Odor  Total Abortions FA Abortion Rate FA Time In FA Time Out   FA Late\n",
      "OdorA                5       5/5 (1.00)   3 (0.60)    2 (0.40)  0 (0.00)\n",
      "OdorC                3       3/3 (1.00)   0 (0.00)    0 (0.00)  3 (1.00)\n",
      "OdorD               13     10/13 (0.77)   0 (0.00)    3 (0.23)  7 (0.54)\n",
      "OdorE               23     21/23 (0.91)   5 (0.22)    2 (0.09) 14 (0.61)\n",
      "OdorG               15     14/15 (0.93)   3 (0.20)    0 (0.00) 11 (0.73)\n",
      "\n",
      "FA Abortion Stats by Position:\n",
      " Position  Total Abortions FA Abortion Rate FA Time In FA Time Out   FA Late\n",
      "        1                3       3/3 (1.00)   0 (0.00)    0 (0.00)  3 (1.00)\n",
      "        2               40     34/40 (0.85)   1 (0.03)    3 (0.07) 30 (0.75)\n",
      "        3                6       6/6 (1.00)   2 (0.33)    2 (0.33)  2 (0.33)\n",
      "        4                5       5/5 (1.00)   5 (1.00)    0 (0.00)  0 (0.00)\n",
      "        5                5       5/5 (1.00)   3 (0.60)    2 (0.40)  0 (0.00)\n",
      "\n",
      "FA Abortion Stats by Odor and Position:\n",
      " Odor  Position  Total Abortions FA Abortion Rate FA Time In FA Time Out   FA Late\n",
      "OdorA         5                5       5/5 (1.00)   3 (0.60)    2 (0.40)  0 (0.00)\n",
      "OdorC         1                3       3/3 (1.00)   0 (0.00)    0 (0.00)  3 (1.00)\n",
      "OdorD         2               10      7/10 (0.70)   0 (0.00)    2 (0.20)  5 (0.50)\n",
      "OdorD         3                3       3/3 (1.00)   0 (0.00)    1 (0.33)  2 (0.67)\n",
      "OdorE         2               17     15/17 (0.88)   0 (0.00)    1 (0.06) 14 (0.82)\n",
      "OdorE         3                3       3/3 (1.00)   2 (0.67)    1 (0.33)  0 (0.00)\n",
      "OdorE         4                3       3/3 (1.00)   3 (1.00)    0 (0.00)  0 (0.00)\n",
      "OdorG         2               13     12/13 (0.92)   1 (0.08)    0 (0.00) 11 (0.85)\n",
      "OdorG         4                2       2/2 (1.00)   2 (1.00)    0 (0.00)  0 (0.00)\n",
      "\n",
      "Saved metrics summary to /Volumes/harris/hypnose/derivatives/sub-026_id-077/ses-127_date-20250916/saved_analysis_results/metrics_26_20250916.txt\n",
      "Saved metrics values to /Volumes/harris/hypnose/derivatives/sub-026_id-077/ses-127_date-20250916/saved_analysis_results/metrics_26_20250916.json\n",
      "Processed subjid=26, date=20250916\n",
      "========== Processed Sessions Summary ==========\n",
      "Subject 26, Protocol \"HiddenRuleA_Location0\", processed dates: 20250916, 20250917\n"
     ]
    }
   ],
   "source": [
    "all_metrics = batch_run_all_metrics(subjids=[26], dates=None, protocol=\"HiddenRuleA_Location0\")"
   ]
  },
  {
   "cell_type": "code",
   "execution_count": 5,
   "metadata": {},
   "outputs": [],
   "source": [
    "results = load_session_results(26, 20250915)"
   ]
  },
  {
   "cell_type": "code",
   "execution_count": 6,
   "metadata": {},
   "outputs": [
    {
     "name": "stdout",
     "output_type": "stream",
     "text": [
      "\n",
      "--- Decision Accuracy ---\n",
      "Decision Accuracy: 132/138 = 0.957\n",
      "\n",
      "--- Premature Response Rate ---\n",
      "Premature Response Rate: 51/54 = 0.944\n",
      "\n",
      "--- Response-Contingent False Alarm Rate ---\n",
      "Response-Contingent False Alarm Rate: 51/189 = 0.270\n",
      "\n",
      "--- Global False Alarm Rate ---\n",
      "Global False Alarm Rate: 51/196 = 0.260\n",
      "\n",
      "--- FA Odor Bias ---\n",
      "FA Odor Bias for FA Time In:\n",
      "OdorA: 1/2 FA, Bias: 1.421\n",
      "OdorB: 2/2 FA, Bias: 2.842\n",
      "OdorC: 4/13 FA, Bias: 0.874\n",
      "OdorD: 0/7 FA, Bias: 0.000\n",
      "OdorE: 4/8 FA, Bias: 1.421\n",
      "OdorF: 4/13 FA, Bias: 0.874\n",
      "OdorG: 4/9 FA, Bias: 1.263\n",
      "\n",
      "--- FA Position Bias ---\n",
      "FA Position Bias for FA Time In:\n",
      "Position 1: 1/5 FA, Bias: 0.568\n",
      "Position 2: 4/18 FA, Bias: 0.632\n",
      "Position 3: 4/14 FA, Bias: 0.812\n",
      "Position 4: 7/13 FA, Bias: 1.530\n",
      "Position 5: 3/4 FA, Bias: 2.132\n",
      "\n",
      "--- Sequence Completion Rate ---\n",
      "Sequence Completion Rate: 142/196 = 0.724\n",
      "\n",
      "--- Odor Abortion Rate ---\n",
      "OdorA: 2/70 abortions, Rate: 0.029\n",
      "OdorB: 2/81 abortions, Rate: 0.025\n",
      "OdorC: 13/131 abortions, Rate: 0.099\n",
      "OdorD: 7/124 abortions, Rate: 0.056\n",
      "OdorE: 8/123 abortions, Rate: 0.065\n",
      "OdorF: 13/126 abortions, Rate: 0.103\n",
      "OdorG: 9/133 abortions, Rate: 0.068\n",
      "\n",
      "--- Hidden Rule Performance ---\n",
      "Hidden Rule Performance: 20/27 = 0.741\n",
      "\n",
      "--- Hidden Rule Detection Rate ---\n",
      "Hidden Rule Detection Rate: 22/27 = 0.815\n",
      "\n",
      "--- Choice Timeout Rate ---\n",
      "Choice Timeout Rate: 4/142 = 0.028\n",
      "\n",
      "--- Average Sampling Time per Odor (Completed) ---\n",
      "OdorA Average Sampling Time: 435.07 ms\n",
      "OdorB Average Sampling Time: 471.07 ms\n",
      "OdorC Average Sampling Time: 874.39 ms\n",
      "OdorD Average Sampling Time: 840.16 ms\n",
      "OdorE Average Sampling Time: 816.16 ms\n",
      "OdorF Average Sampling Time: 782.88 ms\n",
      "OdorG Average Sampling Time: 784.80 ms\n",
      "\n",
      "--- Average Sampling Time (Completed Sequences) ---\n",
      "Average Sampling Time (Completed Sequences): 735.18 ms\n",
      "\n",
      "--- Average Sampling Time (Aborted Sequences) ---\n",
      "Average Sampling Time (Aborted Sequences): 676.90 ms\n",
      "\n",
      "--- Average Sampling Time (Initiation Abortions) ---\n",
      "Average Sampling Time (Initiation Abortions): 166.16 ms\n",
      "\n",
      "--- Abortion Rate by Position ---\n",
      "Position 1: 5/198 abortions, Rate: 0.025\n",
      "Position 2: 18/170 abortions, Rate: 0.106\n",
      "Position 3: 14/152 abortions, Rate: 0.092\n",
      "Position 4: 13/138 abortions, Rate: 0.094\n",
      "Position 5: 4/125 abortions, Rate: 0.032\n",
      "\n",
      "--- Average Response Time ---\n",
      "Rewarded: 1482.9 ms (n=132)\n",
      "Unrewarded: 1602.9 ms (n=6)\n",
      "Reward Timeout: 11426.0 ms (n=4)\n",
      "Average Response Time (Rewarded + Unrewarded): 1488.1 ms (n=138)\n",
      "\n",
      "--- FA Average Response Times ---\n",
      "Non-Initiated FA Response Times:\n",
      "  - FA Time In: avg=1784.0 ms, median=1806.9 ms, n=4\n",
      "  - FA Time Out: avg=2351.2 ms, median=2160.0 ms, n=5\n",
      "\n",
      "Aborted Trials FA Response Times:\n",
      "  - FA Time In: avg=1392.3 ms, median=1322.3 ms, n=19\n",
      "  - FA Time Out: avg=3578.1 ms, median=2861.9 ms, n=14\n",
      "  - FA Late: avg=86925.5 ms, median=8542.9 ms, n=18\n",
      "\n",
      "\n",
      "--- Response Rate ---\n",
      "Response Rate: 138/142 = 0.972\n",
      "\n",
      "--- Manual vs Auto Stop Preference ---\n",
      "Manual Stops: 276\n",
      "Auto Stops: 342\n",
      "Manual vs Auto Stop: 0.81\n",
      "\n",
      "--- Non-Initiated FA Rate ---\n",
      "Non-Initiated FA Rate: 9/88 = 0.102\n",
      "\n",
      "--- Non-Initiation Odor Bias ---\n",
      "OdorA: 8/20 non-initiated, Bias: 1.291\n",
      "OdorB: 7/22 non-initiated, Bias: 1.027\n",
      "OdorC: 18/50 non-initiated, Bias: 1.162\n",
      "OdorD: 9/36 non-initiated, Bias: 0.807\n",
      "OdorE: 10/42 non-initiated, Bias: 0.768\n",
      "OdorF: 19/67 non-initiated, Bias: 0.915\n",
      "OdorG: 17/47 non-initiated, Bias: 1.167\n",
      "\n",
      "--- Odor Initiation Bias ---\n",
      "OdorA: 2/2 initiation abortions, Bias: 1.588\n",
      "OdorB: 2/2 initiation abortions, Bias: 1.588\n",
      "OdorC: 7/13 initiation abortions, Bias: 0.855\n",
      "OdorD: 4/7 initiation abortions, Bias: 0.908\n",
      "OdorE: 5/8 initiation abortions, Bias: 0.993\n",
      "OdorF: 7/13 initiation abortions, Bias: 0.855\n",
      "OdorG: 7/9 initiation abortions, Bias: 1.235\n",
      "\n",
      "--- FA Abortion Stats ---\n",
      "\n",
      "FA Abortion Stats by Odor:\n",
      " Odor  Total Abortions FA Abortion Rate FA Time In FA Time Out  FA Late\n",
      "OdorA                2       2/2 (1.00)   1 (0.50)    1 (0.50) 0 (0.00)\n",
      "OdorB                2       2/2 (1.00)   2 (1.00)    0 (0.00) 0 (0.00)\n",
      "OdorC               13     12/13 (0.92)   4 (0.31)    2 (0.15) 6 (0.46)\n",
      "OdorD                7       7/7 (1.00)   0 (0.00)    4 (0.57) 3 (0.43)\n",
      "OdorE                8       7/8 (0.88)   4 (0.50)    3 (0.38) 0 (0.00)\n",
      "OdorF               13     13/13 (1.00)   4 (0.31)    3 (0.23) 6 (0.46)\n",
      "OdorG                9       8/9 (0.89)   4 (0.44)    1 (0.11) 3 (0.33)\n",
      "\n",
      "FA Abortion Stats by Position:\n",
      " Position  Total Abortions FA Abortion Rate FA Time In FA Time Out  FA Late\n",
      "        1                5       5/5 (1.00)   1 (0.20)    2 (0.40) 2 (0.40)\n",
      "        2               18     17/18 (0.94)   4 (0.22)    4 (0.22) 9 (0.50)\n",
      "        3               14     13/14 (0.93)   4 (0.29)    5 (0.36) 4 (0.29)\n",
      "        4               13     12/13 (0.92)   7 (0.54)    2 (0.15) 3 (0.23)\n",
      "        5                4       4/4 (1.00)   3 (0.75)    1 (0.25) 0 (0.00)\n",
      "\n",
      "FA Abortion Stats by Odor and Position:\n",
      " Odor  Position  Total Abortions FA Abortion Rate FA Time In FA Time Out  FA Late\n",
      "OdorA         5                2       2/2 (1.00)   1 (0.50)    1 (0.50) 0 (0.00)\n",
      "OdorB         5                2       2/2 (1.00)   2 (1.00)    0 (0.00) 0 (0.00)\n",
      "OdorC         1                1       1/1 (1.00)   0 (0.00)    0 (0.00) 1 (1.00)\n",
      "OdorC         2                5       4/5 (0.80)   2 (0.40)    0 (0.00) 2 (0.40)\n",
      "OdorC         3                2       2/2 (1.00)   0 (0.00)    1 (0.50) 1 (0.50)\n",
      "OdorC         4                5       5/5 (1.00)   2 (0.40)    1 (0.20) 2 (0.40)\n",
      "OdorD         1                1       1/1 (1.00)   0 (0.00)    0 (0.00) 1 (1.00)\n",
      "OdorD         3                5       5/5 (1.00)   0 (0.00)    3 (0.60) 2 (0.40)\n",
      "OdorD         4                1       1/1 (1.00)   0 (0.00)    1 (1.00) 0 (0.00)\n",
      "OdorE         1                1       1/1 (1.00)   1 (1.00)    0 (0.00) 0 (0.00)\n",
      "OdorE         2                2       2/2 (1.00)   0 (0.00)    2 (1.00) 0 (0.00)\n",
      "OdorE         3                4       3/4 (0.75)   2 (0.50)    1 (0.25) 0 (0.00)\n",
      "OdorE         4                1       1/1 (1.00)   1 (1.00)    0 (0.00) 0 (0.00)\n",
      "OdorF         1                2       2/2 (1.00)   0 (0.00)    2 (1.00) 0 (0.00)\n",
      "OdorF         2                6       6/6 (1.00)   0 (0.00)    1 (0.17) 5 (0.83)\n",
      "OdorF         3                2       2/2 (1.00)   1 (0.50)    0 (0.00) 1 (0.50)\n",
      "OdorF         4                3       3/3 (1.00)   3 (1.00)    0 (0.00) 0 (0.00)\n",
      "OdorG         2                5       5/5 (1.00)   2 (0.40)    1 (0.20) 2 (0.40)\n",
      "OdorG         3                1       1/1 (1.00)   1 (1.00)    0 (0.00) 0 (0.00)\n",
      "OdorG         4                3       2/3 (0.67)   1 (0.33)    0 (0.00) 1 (0.33)\n",
      "\n",
      "Saved metrics summary to /Volumes/harris/hypnose/derivatives/sub-026_id-077/ses-126_date-20250915/saved_analysis_results/metrics_26_20250915.txt\n",
      "Saved metrics values to /Volumes/harris/hypnose/derivatives/sub-026_id-077/ses-126_date-20250915/saved_analysis_results/metrics_26_20250915.json\n"
     ]
    }
   ],
   "source": [
    "metrics = run_all_metrics(results)"
   ]
  },
  {
   "cell_type": "code",
   "execution_count": null,
   "metadata": {},
   "outputs": [
    {
     "name": "stdout",
     "output_type": "stream",
     "text": [
      "Decision Accuracy: 132/138 = 0.957\n"
     ]
    }
   ],
   "source": [
    "da = decision_accuracy(results)"
   ]
  },
  {
   "cell_type": "code",
   "execution_count": 14,
   "metadata": {},
   "outputs": [
    {
     "name": "stdout",
     "output_type": "stream",
     "text": [
      "Premature Response Rate: 51/54 = 0.944\n"
     ]
    }
   ],
   "source": [
    "pre_res_rate = premature_response_rate(results)"
   ]
  },
  {
   "cell_type": "code",
   "execution_count": 15,
   "metadata": {},
   "outputs": [
    {
     "name": "stdout",
     "output_type": "stream",
     "text": [
      "Response-Contingent False Alarm Rate: 51/189 = 0.270\n"
     ]
    }
   ],
   "source": [
    "res_cont_FA = response_contingent_FA_rate(results)"
   ]
  },
  {
   "cell_type": "code",
   "execution_count": null,
   "metadata": {},
   "outputs": [
    {
     "name": "stdout",
     "output_type": "stream",
     "text": [
      "Global False Alarm Rate: 51/196 = 0.260\n",
      "Global False Alarm Rate: 0.26\n"
     ]
    }
   ],
   "source": [
    "glob_FA_rate_results = global_FA_rate(results)"
   ]
  },
  {
   "cell_type": "code",
   "execution_count": null,
   "metadata": {},
   "outputs": [
    {
     "name": "stdout",
     "output_type": "stream",
     "text": [
      "FA Odor Bias for FA Time In:\n",
      "OdorA: 1/2 FA, Bias: 1.421\n",
      "OdorB: 2/2 FA, Bias: 2.842\n",
      "OdorC: 4/13 FA, Bias: 0.874\n",
      "OdorD: 0/7 FA, Bias: 0.000\n",
      "OdorE: 4/8 FA, Bias: 1.421\n",
      "OdorF: 4/13 FA, Bias: 0.874\n",
      "OdorG: 4/9 FA, Bias: 1.263\n"
     ]
    }
   ],
   "source": [
    "fa_odor_bias_result = FA_odor_bias(results)"
   ]
  },
  {
   "cell_type": "code",
   "execution_count": null,
   "metadata": {},
   "outputs": [
    {
     "name": "stdout",
     "output_type": "stream",
     "text": [
      "FA Position Bias for FA Time In:\n",
      "Position 1: 1/5 FA, Bias: 0.568\n",
      "Position 2: 4/18 FA, Bias: 0.632\n",
      "Position 3: 4/14 FA, Bias: 0.812\n",
      "Position 4: 7/13 FA, Bias: 1.530\n",
      "Position 5: 3/4 FA, Bias: 2.132\n",
      "Position: 1, FA Position Bias: 0.57\n",
      "Position: 2, FA Position Bias: 0.63\n",
      "Position: 3, FA Position Bias: 0.81\n",
      "Position: 4, FA Position Bias: 1.53\n",
      "Position: 5, FA Position Bias: 2.13\n"
     ]
    }
   ],
   "source": [
    "fa_position_bias = FA_position_bias(results)"
   ]
  },
  {
   "cell_type": "code",
   "execution_count": null,
   "metadata": {},
   "outputs": [
    {
     "name": "stdout",
     "output_type": "stream",
     "text": [
      "Sequence Completion Rate: 142/196 = 0.724\n",
      "Sequence Completion Rate: 0.72\n"
     ]
    }
   ],
   "source": [
    "completed_seqs = sequence_completion_rate(results)"
   ]
  },
  {
   "cell_type": "code",
   "execution_count": 27,
   "metadata": {},
   "outputs": [
    {
     "name": "stdout",
     "output_type": "stream",
     "text": [
      "OdorA: 2/70 abortions, Rate: 0.029\n",
      "OdorB: 2/81 abortions, Rate: 0.025\n",
      "OdorC: 13/131 abortions, Rate: 0.099\n",
      "OdorD: 7/124 abortions, Rate: 0.056\n",
      "OdorE: 8/123 abortions, Rate: 0.065\n",
      "OdorF: 13/126 abortions, Rate: 0.103\n",
      "OdorG: 9/133 abortions, Rate: 0.068\n"
     ]
    }
   ],
   "source": [
    "odor_abortion_rates_result = odorx_abortion_rate(results)"
   ]
  },
  {
   "cell_type": "code",
   "execution_count": null,
   "metadata": {},
   "outputs": [
    {
     "name": "stdout",
     "output_type": "stream",
     "text": [
      "Hidden Rule Performance: 20/27 = 0.741\n",
      "Hidden Rule Performance: 0.74\n"
     ]
    }
   ],
   "source": [
    "hidden_rule_performance_results = hidden_rule_performance(results)\n"
   ]
  },
  {
   "cell_type": "code",
   "execution_count": null,
   "metadata": {},
   "outputs": [
    {
     "name": "stdout",
     "output_type": "stream",
     "text": [
      "Hidden Rule Detection Rate: 22/27 = 0.815\n",
      "Hidden Rule Detection Rate: 0.81\n"
     ]
    }
   ],
   "source": [
    "hidden_rule_detection_results = hidden_rule_detection_rate(results)"
   ]
  },
  {
   "cell_type": "code",
   "execution_count": null,
   "metadata": {},
   "outputs": [
    {
     "name": "stdout",
     "output_type": "stream",
     "text": [
      "Choice Timeout Rate: 4/142 = 0.028\n",
      "Choice Timeout Rate: 0.03\n"
     ]
    }
   ],
   "source": [
    "choice_timeouts = choice_timeout_rate(results)"
   ]
  },
  {
   "cell_type": "code",
   "execution_count": null,
   "metadata": {},
   "outputs": [
    {
     "name": "stdout",
     "output_type": "stream",
     "text": [
      "OdorA Average Sampling Time: 435.07 ms\n",
      "OdorB Average Sampling Time: 471.07 ms\n",
      "OdorC Average Sampling Time: 874.39 ms\n",
      "OdorD Average Sampling Time: 840.16 ms\n",
      "OdorE Average Sampling Time: 816.16 ms\n",
      "OdorF Average Sampling Time: 782.88 ms\n",
      "OdorG Average Sampling Time: 784.80 ms\n",
      "Odor: OdorA, Average Sampling Time: 435.07 seconds\n",
      "Odor: OdorB, Average Sampling Time: 471.07 seconds\n",
      "Odor: OdorC, Average Sampling Time: 874.39 seconds\n",
      "Odor: OdorD, Average Sampling Time: 840.16 seconds\n",
      "Odor: OdorE, Average Sampling Time: 816.16 seconds\n",
      "Odor: OdorF, Average Sampling Time: 782.88 seconds\n",
      "Odor: OdorG, Average Sampling Time: 784.80 seconds\n"
     ]
    }
   ],
   "source": [
    "avg_sampling_results = avg_sampling_time_odor_x(results)"
   ]
  },
  {
   "cell_type": "code",
   "execution_count": null,
   "metadata": {},
   "outputs": [
    {
     "name": "stdout",
     "output_type": "stream",
     "text": [
      "Average Sampling Time (Completed Sequences): 735.18 ms\n",
      "Average Sampling Time per Odor for Completed Sequences: 735.18 seconds\n"
     ]
    }
   ],
   "source": [
    "avg_sampling_completed_seq_results = avg_sampling_time_completed_sequence(results)"
   ]
  },
  {
   "cell_type": "code",
   "execution_count": null,
   "metadata": {},
   "outputs": [
    {
     "name": "stdout",
     "output_type": "stream",
     "text": [
      "Average Sampling Time (Aborted Sequences): 676.90 ms\n",
      "Average Sampling Time per Odor for Aborted Sequences: 676.90 seconds\n"
     ]
    }
   ],
   "source": [
    "avg_sampling_aborted_sequence_result = avg_sampling_time_aborted_sequence(results)\n",
    "# Note: different from the one calculated in the merge summary, as this does not drop poke times < minimum_sampling_time_ms"
   ]
  },
  {
   "cell_type": "code",
   "execution_count": 45,
   "metadata": {},
   "outputs": [
    {
     "name": "stdout",
     "output_type": "stream",
     "text": [
      "Average Sampling Time (Initiation Abortions): 166.16 ms\n"
     ]
    }
   ],
   "source": [
    "avg_sampling_initiation = avg_sampling_time_initiation_abortion(results)"
   ]
  },
  {
   "cell_type": "code",
   "execution_count": 47,
   "metadata": {},
   "outputs": [
    {
     "name": "stdout",
     "output_type": "stream",
     "text": [
      "Position 1: 5/198 abortions, Rate: 0.025\n",
      "Position 2: 18/170 abortions, Rate: 0.106\n",
      "Position 3: 14/152 abortions, Rate: 0.092\n",
      "Position 4: 13/138 abortions, Rate: 0.094\n",
      "Position 5: 4/125 abortions, Rate: 0.032\n"
     ]
    }
   ],
   "source": [
    "abortion_rate_results = abortion_rate_positionX(results)\n"
   ]
  },
  {
   "cell_type": "code",
   "execution_count": 48,
   "metadata": {},
   "outputs": [
    {
     "name": "stdout",
     "output_type": "stream",
     "text": [
      "Rewarded: 1482.9 ms (n=132)\n",
      "Unrewarded: 1602.9 ms (n=6)\n",
      "Reward Timeout: 11426.0 ms (n=4)\n",
      "Average Response Time (Rewarded + Unrewarded): 1488.1 ms (n=138)\n"
     ]
    }
   ],
   "source": [
    "avg_response_time_results = avg_response_time(results)\n"
   ]
  },
  {
   "cell_type": "code",
   "execution_count": 35,
   "metadata": {},
   "outputs": [
    {
     "name": "stdout",
     "output_type": "stream",
     "text": [
      "Non-Initiated FA Response Times:\n",
      "  - FA Time In: avg=1784.0 ms, median=1806.9 ms, n=4\n",
      "  - FA Time Out: avg=2351.2 ms, median=2160.0 ms, n=5\n",
      "\n",
      "Aborted Trials FA Response Times:\n",
      "  - FA Time In: avg=1392.3 ms, median=1322.3 ms, n=19\n",
      "  - FA Time Out: avg=3578.1 ms, median=2861.9 ms, n=14\n",
      "  - FA Late: avg=86925.5 ms, median=8542.9 ms, n=18\n",
      "\n"
     ]
    }
   ],
   "source": [
    "FA_response_time_results = FA_avg_response_times(results)\n"
   ]
  },
  {
   "cell_type": "code",
   "execution_count": 50,
   "metadata": {},
   "outputs": [
    {
     "name": "stdout",
     "output_type": "stream",
     "text": [
      "Response Rate: 138/142 = 0.972\n"
     ]
    }
   ],
   "source": [
    "resposne_rate_results = response_rate(results)"
   ]
  },
  {
   "cell_type": "code",
   "execution_count": 43,
   "metadata": {},
   "outputs": [
    {
     "name": "stdout",
     "output_type": "stream",
     "text": [
      "Manual Stops: 276\n",
      "Auto Stops: 342\n",
      "Manual vs Auto Stop: 0.81\n"
     ]
    }
   ],
   "source": [
    "stop_preference = manual_vs_auto_stop_preference(results)"
   ]
  },
  {
   "cell_type": "code",
   "execution_count": 52,
   "metadata": {},
   "outputs": [
    {
     "name": "stdout",
     "output_type": "stream",
     "text": [
      "Non-Initiated FA Rate: 9/88 = 0.102\n"
     ]
    }
   ],
   "source": [
    "non_initiated_FA_rate_results = non_initiated_FA_rate(results)"
   ]
  },
  {
   "cell_type": "code",
   "execution_count": 56,
   "metadata": {},
   "outputs": [
    {
     "name": "stdout",
     "output_type": "stream",
     "text": [
      "OdorA: 8/20 non-initiated, Bias: 1.291\n",
      "OdorB: 7/22 non-initiated, Bias: 1.027\n",
      "OdorC: 18/50 non-initiated, Bias: 1.162\n",
      "OdorD: 9/36 non-initiated, Bias: 0.807\n",
      "OdorE: 10/42 non-initiated, Bias: 0.768\n",
      "OdorF: 19/67 non-initiated, Bias: 0.915\n",
      "OdorG: 17/47 non-initiated, Bias: 1.167\n"
     ]
    }
   ],
   "source": [
    "non_initiation_odor_bias_results = non_initiation_odor_bias(results)"
   ]
  },
  {
   "cell_type": "code",
   "execution_count": 58,
   "metadata": {},
   "outputs": [
    {
     "name": "stdout",
     "output_type": "stream",
     "text": [
      "OdorA: 2/2 initiation abortions, Bias: 1.588\n",
      "OdorB: 2/2 initiation abortions, Bias: 1.588\n",
      "OdorC: 7/13 initiation abortions, Bias: 0.855\n",
      "OdorD: 4/7 initiation abortions, Bias: 0.908\n",
      "OdorE: 5/8 initiation abortions, Bias: 0.993\n",
      "OdorF: 7/13 initiation abortions, Bias: 0.855\n",
      "OdorG: 7/9 initiation abortions, Bias: 1.235\n"
     ]
    }
   ],
   "source": [
    "odor_init_bias_results = odor_initiation_bias(results)"
   ]
  },
  {
   "cell_type": "code",
   "execution_count": 9,
   "metadata": {},
   "outputs": [
    {
     "name": "stdout",
     "output_type": "stream",
     "text": [
      "=== By Odor ===\n"
     ]
    },
    {
     "data": {
      "text/html": [
       "<div>\n",
       "<style scoped>\n",
       "    .dataframe tbody tr th:only-of-type {\n",
       "        vertical-align: middle;\n",
       "    }\n",
       "\n",
       "    .dataframe tbody tr th {\n",
       "        vertical-align: top;\n",
       "    }\n",
       "\n",
       "    .dataframe thead th {\n",
       "        text-align: right;\n",
       "    }\n",
       "</style>\n",
       "<table border=\"1\" class=\"dataframe\">\n",
       "  <thead>\n",
       "    <tr style=\"text-align: right;\">\n",
       "      <th></th>\n",
       "      <th>Odor</th>\n",
       "      <th>Total Abortions</th>\n",
       "      <th>FA Abortion Rate</th>\n",
       "      <th>FA Time In</th>\n",
       "      <th>FA Time Out</th>\n",
       "      <th>FA Late</th>\n",
       "    </tr>\n",
       "  </thead>\n",
       "  <tbody>\n",
       "    <tr>\n",
       "      <th>0</th>\n",
       "      <td>OdorA</td>\n",
       "      <td>2</td>\n",
       "      <td>2/2 (1.00)</td>\n",
       "      <td>1 (0.50)</td>\n",
       "      <td>1 (0.50)</td>\n",
       "      <td>0 (0.00)</td>\n",
       "    </tr>\n",
       "    <tr>\n",
       "      <th>1</th>\n",
       "      <td>OdorB</td>\n",
       "      <td>2</td>\n",
       "      <td>2/2 (1.00)</td>\n",
       "      <td>2 (1.00)</td>\n",
       "      <td>0 (0.00)</td>\n",
       "      <td>0 (0.00)</td>\n",
       "    </tr>\n",
       "    <tr>\n",
       "      <th>2</th>\n",
       "      <td>OdorC</td>\n",
       "      <td>13</td>\n",
       "      <td>12/13 (0.92)</td>\n",
       "      <td>4 (0.31)</td>\n",
       "      <td>2 (0.15)</td>\n",
       "      <td>6 (0.46)</td>\n",
       "    </tr>\n",
       "    <tr>\n",
       "      <th>3</th>\n",
       "      <td>OdorD</td>\n",
       "      <td>7</td>\n",
       "      <td>7/7 (1.00)</td>\n",
       "      <td>0 (0.00)</td>\n",
       "      <td>4 (0.57)</td>\n",
       "      <td>3 (0.43)</td>\n",
       "    </tr>\n",
       "    <tr>\n",
       "      <th>4</th>\n",
       "      <td>OdorE</td>\n",
       "      <td>8</td>\n",
       "      <td>7/8 (0.88)</td>\n",
       "      <td>4 (0.50)</td>\n",
       "      <td>3 (0.38)</td>\n",
       "      <td>0 (0.00)</td>\n",
       "    </tr>\n",
       "    <tr>\n",
       "      <th>5</th>\n",
       "      <td>OdorF</td>\n",
       "      <td>13</td>\n",
       "      <td>13/13 (1.00)</td>\n",
       "      <td>4 (0.31)</td>\n",
       "      <td>3 (0.23)</td>\n",
       "      <td>6 (0.46)</td>\n",
       "    </tr>\n",
       "    <tr>\n",
       "      <th>6</th>\n",
       "      <td>OdorG</td>\n",
       "      <td>9</td>\n",
       "      <td>8/9 (0.89)</td>\n",
       "      <td>4 (0.44)</td>\n",
       "      <td>1 (0.11)</td>\n",
       "      <td>3 (0.33)</td>\n",
       "    </tr>\n",
       "  </tbody>\n",
       "</table>\n",
       "</div>"
      ],
      "text/plain": [
       "    Odor  Total Abortions FA Abortion Rate FA Time In FA Time Out   FA Late\n",
       "0  OdorA                2       2/2 (1.00)   1 (0.50)    1 (0.50)  0 (0.00)\n",
       "1  OdorB                2       2/2 (1.00)   2 (1.00)    0 (0.00)  0 (0.00)\n",
       "2  OdorC               13     12/13 (0.92)   4 (0.31)    2 (0.15)  6 (0.46)\n",
       "3  OdorD                7       7/7 (1.00)   0 (0.00)    4 (0.57)  3 (0.43)\n",
       "4  OdorE                8       7/8 (0.88)   4 (0.50)    3 (0.38)  0 (0.00)\n",
       "5  OdorF               13     13/13 (1.00)   4 (0.31)    3 (0.23)  6 (0.46)\n",
       "6  OdorG                9       8/9 (0.89)   4 (0.44)    1 (0.11)  3 (0.33)"
      ]
     },
     "metadata": {},
     "output_type": "display_data"
    },
    {
     "name": "stdout",
     "output_type": "stream",
     "text": [
      "=== By Position ===\n"
     ]
    },
    {
     "data": {
      "text/html": [
       "<div>\n",
       "<style scoped>\n",
       "    .dataframe tbody tr th:only-of-type {\n",
       "        vertical-align: middle;\n",
       "    }\n",
       "\n",
       "    .dataframe tbody tr th {\n",
       "        vertical-align: top;\n",
       "    }\n",
       "\n",
       "    .dataframe thead th {\n",
       "        text-align: right;\n",
       "    }\n",
       "</style>\n",
       "<table border=\"1\" class=\"dataframe\">\n",
       "  <thead>\n",
       "    <tr style=\"text-align: right;\">\n",
       "      <th></th>\n",
       "      <th>Position</th>\n",
       "      <th>Total Abortions</th>\n",
       "      <th>FA Abortion Rate</th>\n",
       "      <th>FA Time In</th>\n",
       "      <th>FA Time Out</th>\n",
       "      <th>FA Late</th>\n",
       "    </tr>\n",
       "  </thead>\n",
       "  <tbody>\n",
       "    <tr>\n",
       "      <th>0</th>\n",
       "      <td>1</td>\n",
       "      <td>5</td>\n",
       "      <td>5/5 (1.00)</td>\n",
       "      <td>1 (0.20)</td>\n",
       "      <td>2 (0.40)</td>\n",
       "      <td>2 (0.40)</td>\n",
       "    </tr>\n",
       "    <tr>\n",
       "      <th>1</th>\n",
       "      <td>2</td>\n",
       "      <td>18</td>\n",
       "      <td>17/18 (0.94)</td>\n",
       "      <td>4 (0.22)</td>\n",
       "      <td>4 (0.22)</td>\n",
       "      <td>9 (0.50)</td>\n",
       "    </tr>\n",
       "    <tr>\n",
       "      <th>2</th>\n",
       "      <td>3</td>\n",
       "      <td>14</td>\n",
       "      <td>13/14 (0.93)</td>\n",
       "      <td>4 (0.29)</td>\n",
       "      <td>5 (0.36)</td>\n",
       "      <td>4 (0.29)</td>\n",
       "    </tr>\n",
       "    <tr>\n",
       "      <th>3</th>\n",
       "      <td>4</td>\n",
       "      <td>13</td>\n",
       "      <td>12/13 (0.92)</td>\n",
       "      <td>7 (0.54)</td>\n",
       "      <td>2 (0.15)</td>\n",
       "      <td>3 (0.23)</td>\n",
       "    </tr>\n",
       "    <tr>\n",
       "      <th>4</th>\n",
       "      <td>5</td>\n",
       "      <td>4</td>\n",
       "      <td>4/4 (1.00)</td>\n",
       "      <td>3 (0.75)</td>\n",
       "      <td>1 (0.25)</td>\n",
       "      <td>0 (0.00)</td>\n",
       "    </tr>\n",
       "  </tbody>\n",
       "</table>\n",
       "</div>"
      ],
      "text/plain": [
       "   Position  Total Abortions FA Abortion Rate FA Time In FA Time Out   FA Late\n",
       "0         1                5       5/5 (1.00)   1 (0.20)    2 (0.40)  2 (0.40)\n",
       "1         2               18     17/18 (0.94)   4 (0.22)    4 (0.22)  9 (0.50)\n",
       "2         3               14     13/14 (0.93)   4 (0.29)    5 (0.36)  4 (0.29)\n",
       "3         4               13     12/13 (0.92)   7 (0.54)    2 (0.15)  3 (0.23)\n",
       "4         5                4       4/4 (1.00)   3 (0.75)    1 (0.25)  0 (0.00)"
      ]
     },
     "metadata": {},
     "output_type": "display_data"
    },
    {
     "name": "stdout",
     "output_type": "stream",
     "text": [
      "=== By Odor+Position ===\n"
     ]
    },
    {
     "data": {
      "text/html": [
       "<div>\n",
       "<style scoped>\n",
       "    .dataframe tbody tr th:only-of-type {\n",
       "        vertical-align: middle;\n",
       "    }\n",
       "\n",
       "    .dataframe tbody tr th {\n",
       "        vertical-align: top;\n",
       "    }\n",
       "\n",
       "    .dataframe thead th {\n",
       "        text-align: right;\n",
       "    }\n",
       "</style>\n",
       "<table border=\"1\" class=\"dataframe\">\n",
       "  <thead>\n",
       "    <tr style=\"text-align: right;\">\n",
       "      <th></th>\n",
       "      <th>Odor</th>\n",
       "      <th>Position</th>\n",
       "      <th>Total Abortions</th>\n",
       "      <th>FA Abortion Rate</th>\n",
       "      <th>FA Time In</th>\n",
       "      <th>FA Time Out</th>\n",
       "      <th>FA Late</th>\n",
       "    </tr>\n",
       "  </thead>\n",
       "  <tbody>\n",
       "    <tr>\n",
       "      <th>0</th>\n",
       "      <td>OdorA</td>\n",
       "      <td>5</td>\n",
       "      <td>2</td>\n",
       "      <td>2/2 (1.00)</td>\n",
       "      <td>1 (0.50)</td>\n",
       "      <td>1 (0.50)</td>\n",
       "      <td>0 (0.00)</td>\n",
       "    </tr>\n",
       "    <tr>\n",
       "      <th>1</th>\n",
       "      <td>OdorB</td>\n",
       "      <td>5</td>\n",
       "      <td>2</td>\n",
       "      <td>2/2 (1.00)</td>\n",
       "      <td>2 (1.00)</td>\n",
       "      <td>0 (0.00)</td>\n",
       "      <td>0 (0.00)</td>\n",
       "    </tr>\n",
       "    <tr>\n",
       "      <th>2</th>\n",
       "      <td>OdorC</td>\n",
       "      <td>1</td>\n",
       "      <td>1</td>\n",
       "      <td>1/1 (1.00)</td>\n",
       "      <td>0 (0.00)</td>\n",
       "      <td>0 (0.00)</td>\n",
       "      <td>1 (1.00)</td>\n",
       "    </tr>\n",
       "    <tr>\n",
       "      <th>3</th>\n",
       "      <td>OdorC</td>\n",
       "      <td>2</td>\n",
       "      <td>5</td>\n",
       "      <td>4/5 (0.80)</td>\n",
       "      <td>2 (0.40)</td>\n",
       "      <td>0 (0.00)</td>\n",
       "      <td>2 (0.40)</td>\n",
       "    </tr>\n",
       "    <tr>\n",
       "      <th>4</th>\n",
       "      <td>OdorC</td>\n",
       "      <td>3</td>\n",
       "      <td>2</td>\n",
       "      <td>2/2 (1.00)</td>\n",
       "      <td>0 (0.00)</td>\n",
       "      <td>1 (0.50)</td>\n",
       "      <td>1 (0.50)</td>\n",
       "    </tr>\n",
       "    <tr>\n",
       "      <th>5</th>\n",
       "      <td>OdorC</td>\n",
       "      <td>4</td>\n",
       "      <td>5</td>\n",
       "      <td>5/5 (1.00)</td>\n",
       "      <td>2 (0.40)</td>\n",
       "      <td>1 (0.20)</td>\n",
       "      <td>2 (0.40)</td>\n",
       "    </tr>\n",
       "    <tr>\n",
       "      <th>6</th>\n",
       "      <td>OdorD</td>\n",
       "      <td>1</td>\n",
       "      <td>1</td>\n",
       "      <td>1/1 (1.00)</td>\n",
       "      <td>0 (0.00)</td>\n",
       "      <td>0 (0.00)</td>\n",
       "      <td>1 (1.00)</td>\n",
       "    </tr>\n",
       "    <tr>\n",
       "      <th>7</th>\n",
       "      <td>OdorD</td>\n",
       "      <td>3</td>\n",
       "      <td>5</td>\n",
       "      <td>5/5 (1.00)</td>\n",
       "      <td>0 (0.00)</td>\n",
       "      <td>3 (0.60)</td>\n",
       "      <td>2 (0.40)</td>\n",
       "    </tr>\n",
       "    <tr>\n",
       "      <th>8</th>\n",
       "      <td>OdorD</td>\n",
       "      <td>4</td>\n",
       "      <td>1</td>\n",
       "      <td>1/1 (1.00)</td>\n",
       "      <td>0 (0.00)</td>\n",
       "      <td>1 (1.00)</td>\n",
       "      <td>0 (0.00)</td>\n",
       "    </tr>\n",
       "    <tr>\n",
       "      <th>9</th>\n",
       "      <td>OdorE</td>\n",
       "      <td>1</td>\n",
       "      <td>1</td>\n",
       "      <td>1/1 (1.00)</td>\n",
       "      <td>1 (1.00)</td>\n",
       "      <td>0 (0.00)</td>\n",
       "      <td>0 (0.00)</td>\n",
       "    </tr>\n",
       "    <tr>\n",
       "      <th>10</th>\n",
       "      <td>OdorE</td>\n",
       "      <td>2</td>\n",
       "      <td>2</td>\n",
       "      <td>2/2 (1.00)</td>\n",
       "      <td>0 (0.00)</td>\n",
       "      <td>2 (1.00)</td>\n",
       "      <td>0 (0.00)</td>\n",
       "    </tr>\n",
       "    <tr>\n",
       "      <th>11</th>\n",
       "      <td>OdorE</td>\n",
       "      <td>3</td>\n",
       "      <td>4</td>\n",
       "      <td>3/4 (0.75)</td>\n",
       "      <td>2 (0.50)</td>\n",
       "      <td>1 (0.25)</td>\n",
       "      <td>0 (0.00)</td>\n",
       "    </tr>\n",
       "    <tr>\n",
       "      <th>12</th>\n",
       "      <td>OdorE</td>\n",
       "      <td>4</td>\n",
       "      <td>1</td>\n",
       "      <td>1/1 (1.00)</td>\n",
       "      <td>1 (1.00)</td>\n",
       "      <td>0 (0.00)</td>\n",
       "      <td>0 (0.00)</td>\n",
       "    </tr>\n",
       "    <tr>\n",
       "      <th>13</th>\n",
       "      <td>OdorF</td>\n",
       "      <td>1</td>\n",
       "      <td>2</td>\n",
       "      <td>2/2 (1.00)</td>\n",
       "      <td>0 (0.00)</td>\n",
       "      <td>2 (1.00)</td>\n",
       "      <td>0 (0.00)</td>\n",
       "    </tr>\n",
       "    <tr>\n",
       "      <th>14</th>\n",
       "      <td>OdorF</td>\n",
       "      <td>2</td>\n",
       "      <td>6</td>\n",
       "      <td>6/6 (1.00)</td>\n",
       "      <td>0 (0.00)</td>\n",
       "      <td>1 (0.17)</td>\n",
       "      <td>5 (0.83)</td>\n",
       "    </tr>\n",
       "    <tr>\n",
       "      <th>15</th>\n",
       "      <td>OdorF</td>\n",
       "      <td>3</td>\n",
       "      <td>2</td>\n",
       "      <td>2/2 (1.00)</td>\n",
       "      <td>1 (0.50)</td>\n",
       "      <td>0 (0.00)</td>\n",
       "      <td>1 (0.50)</td>\n",
       "    </tr>\n",
       "    <tr>\n",
       "      <th>16</th>\n",
       "      <td>OdorF</td>\n",
       "      <td>4</td>\n",
       "      <td>3</td>\n",
       "      <td>3/3 (1.00)</td>\n",
       "      <td>3 (1.00)</td>\n",
       "      <td>0 (0.00)</td>\n",
       "      <td>0 (0.00)</td>\n",
       "    </tr>\n",
       "    <tr>\n",
       "      <th>17</th>\n",
       "      <td>OdorG</td>\n",
       "      <td>2</td>\n",
       "      <td>5</td>\n",
       "      <td>5/5 (1.00)</td>\n",
       "      <td>2 (0.40)</td>\n",
       "      <td>1 (0.20)</td>\n",
       "      <td>2 (0.40)</td>\n",
       "    </tr>\n",
       "    <tr>\n",
       "      <th>18</th>\n",
       "      <td>OdorG</td>\n",
       "      <td>3</td>\n",
       "      <td>1</td>\n",
       "      <td>1/1 (1.00)</td>\n",
       "      <td>1 (1.00)</td>\n",
       "      <td>0 (0.00)</td>\n",
       "      <td>0 (0.00)</td>\n",
       "    </tr>\n",
       "    <tr>\n",
       "      <th>19</th>\n",
       "      <td>OdorG</td>\n",
       "      <td>4</td>\n",
       "      <td>3</td>\n",
       "      <td>2/3 (0.67)</td>\n",
       "      <td>1 (0.33)</td>\n",
       "      <td>0 (0.00)</td>\n",
       "      <td>1 (0.33)</td>\n",
       "    </tr>\n",
       "  </tbody>\n",
       "</table>\n",
       "</div>"
      ],
      "text/plain": [
       "     Odor  Position  Total Abortions FA Abortion Rate FA Time In FA Time Out  \\\n",
       "0   OdorA         5                2       2/2 (1.00)   1 (0.50)    1 (0.50)   \n",
       "1   OdorB         5                2       2/2 (1.00)   2 (1.00)    0 (0.00)   \n",
       "2   OdorC         1                1       1/1 (1.00)   0 (0.00)    0 (0.00)   \n",
       "3   OdorC         2                5       4/5 (0.80)   2 (0.40)    0 (0.00)   \n",
       "4   OdorC         3                2       2/2 (1.00)   0 (0.00)    1 (0.50)   \n",
       "5   OdorC         4                5       5/5 (1.00)   2 (0.40)    1 (0.20)   \n",
       "6   OdorD         1                1       1/1 (1.00)   0 (0.00)    0 (0.00)   \n",
       "7   OdorD         3                5       5/5 (1.00)   0 (0.00)    3 (0.60)   \n",
       "8   OdorD         4                1       1/1 (1.00)   0 (0.00)    1 (1.00)   \n",
       "9   OdorE         1                1       1/1 (1.00)   1 (1.00)    0 (0.00)   \n",
       "10  OdorE         2                2       2/2 (1.00)   0 (0.00)    2 (1.00)   \n",
       "11  OdorE         3                4       3/4 (0.75)   2 (0.50)    1 (0.25)   \n",
       "12  OdorE         4                1       1/1 (1.00)   1 (1.00)    0 (0.00)   \n",
       "13  OdorF         1                2       2/2 (1.00)   0 (0.00)    2 (1.00)   \n",
       "14  OdorF         2                6       6/6 (1.00)   0 (0.00)    1 (0.17)   \n",
       "15  OdorF         3                2       2/2 (1.00)   1 (0.50)    0 (0.00)   \n",
       "16  OdorF         4                3       3/3 (1.00)   3 (1.00)    0 (0.00)   \n",
       "17  OdorG         2                5       5/5 (1.00)   2 (0.40)    1 (0.20)   \n",
       "18  OdorG         3                1       1/1 (1.00)   1 (1.00)    0 (0.00)   \n",
       "19  OdorG         4                3       2/3 (0.67)   1 (0.33)    0 (0.00)   \n",
       "\n",
       "     FA Late  \n",
       "0   0 (0.00)  \n",
       "1   0 (0.00)  \n",
       "2   1 (1.00)  \n",
       "3   2 (0.40)  \n",
       "4   1 (0.50)  \n",
       "5   2 (0.40)  \n",
       "6   1 (1.00)  \n",
       "7   2 (0.40)  \n",
       "8   0 (0.00)  \n",
       "9   0 (0.00)  \n",
       "10  0 (0.00)  \n",
       "11  0 (0.00)  \n",
       "12  0 (0.00)  \n",
       "13  0 (0.00)  \n",
       "14  5 (0.83)  \n",
       "15  1 (0.50)  \n",
       "16  0 (0.00)  \n",
       "17  2 (0.40)  \n",
       "18  0 (0.00)  \n",
       "19  1 (0.33)  "
      ]
     },
     "metadata": {},
     "output_type": "display_data"
    }
   ],
   "source": [
    "fa_abortion_stats_results = fa_abortion_stats(results)"
   ]
  }
 ],
 "metadata": {
  "kernelspec": {
   "display_name": "hypnose",
   "language": "python",
   "name": "python3"
  },
  "language_info": {
   "codemirror_mode": {
    "name": "ipython",
    "version": 3
   },
   "file_extension": ".py",
   "mimetype": "text/x-python",
   "name": "python",
   "nbconvert_exporter": "python",
   "pygments_lexer": "ipython3",
   "version": "3.12.11"
  }
 },
 "nbformat": 4,
 "nbformat_minor": 2
}
