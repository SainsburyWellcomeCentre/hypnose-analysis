{
 "cells": [
  {
   "cell_type": "code",
   "execution_count": 1,
   "metadata": {},
   "outputs": [],
   "source": [
    "%load_ext autoreload\n",
    "%autoreload 2\n",
    "import sys\n",
    "import os\n",
    "project_root = os.path.abspath(\"/Users/joschua/repos/harris_lab/hypnose/hypnose-analysis\")\n",
    "if project_root not in sys.path:\n",
    "    sys.path.append(project_root)\n",
    "import pandas as pd\n",
    "import numpy as np \n",
    "from pathlib import Path\n",
    "import metrics_utils\n",
    "from metrics_utils import * \n",
    "import harp\n",
    "from ipywidgets import widgets\n",
    "from IPython.display import display\n",
    "\n",
    "%matplotlib widget"
   ]
  },
  {
   "cell_type": "code",
   "execution_count": 2,
   "metadata": {},
   "outputs": [
    {
     "name": "stdout",
     "output_type": "stream",
     "text": [
      "Found 6 subject directories.\n"
     ]
    },
    {
     "ename": "KeyboardInterrupt",
     "evalue": "",
     "output_type": "error",
     "traceback": [
      "\u001b[31m---------------------------------------------------------------------------\u001b[39m",
      "\u001b[31mKeyboardInterrupt\u001b[39m                         Traceback (most recent call last)",
      "\u001b[36mCell\u001b[39m\u001b[36m \u001b[39m\u001b[32mIn[2]\u001b[39m\u001b[32m, line 2\u001b[39m\n\u001b[32m      1\u001b[39m \u001b[38;5;66;03m# Run all behavioral metrics. Can be run on one or multiple subjects and dates ([...] for multiple subject, or None for all subjects). Specify protocol to filter sessions (None for all protocols).\u001b[39;00m\n\u001b[32m----> \u001b[39m\u001b[32m2\u001b[39m all_metrics = batch_run_all_metrics_with_merge(subjids=\u001b[38;5;28;01mNone\u001b[39;00m, dates=[\u001b[32m20250918\u001b[39m], protocol=\u001b[38;5;28;01mNone\u001b[39;00m)\n",
      "\u001b[36mFile \u001b[39m\u001b[32m~/repos/harris_lab/hypnose/hypnose-analysis/notebooks/metrics_utils.py:404\u001b[39m, in \u001b[36mbatch_run_all_metrics_with_merge\u001b[39m\u001b[34m(subjids, dates, protocol, save_txt, save_json, verbose)\u001b[39m\n\u001b[32m    402\u001b[39m \u001b[38;5;66;03m# Run metrics\u001b[39;00m\n\u001b[32m    403\u001b[39m \u001b[38;5;28;01mtry\u001b[39;00m:\n\u001b[32m--> \u001b[39m\u001b[32m404\u001b[39m     session_results = load_session_results(subjid, date)\n\u001b[32m    405\u001b[39m     metrics = run_all_metrics(\n\u001b[32m    406\u001b[39m         session_results,\n\u001b[32m    407\u001b[39m         save_txt=save_txt,\n\u001b[32m    408\u001b[39m         save_json=save_json\n\u001b[32m    409\u001b[39m     )\n\u001b[32m    410\u001b[39m     results.append({\n\u001b[32m    411\u001b[39m         \u001b[33m\"\u001b[39m\u001b[33msubjid\u001b[39m\u001b[33m\"\u001b[39m: subjid,\n\u001b[32m    412\u001b[39m         \u001b[33m\"\u001b[39m\u001b[33mdate\u001b[39m\u001b[33m\"\u001b[39m: date,\n\u001b[32m    413\u001b[39m         \u001b[33m\"\u001b[39m\u001b[33mmetrics\u001b[39m\u001b[33m\"\u001b[39m: metrics\n\u001b[32m    414\u001b[39m     })\n",
      "\u001b[36mFile \u001b[39m\u001b[32m~/repos/harris_lab/hypnose/hypnose-analysis/notebooks/metrics_utils.py:76\u001b[39m, in \u001b[36mload_session_results\u001b[39m\u001b[34m(subjid, date)\u001b[39m\n\u001b[32m     74\u001b[39m f = results_dir / \u001b[33mf\u001b[39m\u001b[33m\"\u001b[39m\u001b[38;5;132;01m{\u001b[39;00mt\u001b[38;5;132;01m}\u001b[39;00m\u001b[33m.csv\u001b[39m\u001b[33m\"\u001b[39m\n\u001b[32m     75\u001b[39m \u001b[38;5;28;01mif\u001b[39;00m f.exists():\n\u001b[32m---> \u001b[39m\u001b[32m76\u001b[39m     results[t] = pd.read_csv(f)\n\u001b[32m     77\u001b[39m \u001b[38;5;28;01melse\u001b[39;00m:\n\u001b[32m     78\u001b[39m     results[t] = pd.DataFrame()\n",
      "\u001b[36mFile \u001b[39m\u001b[32m~/miniconda3/envs/hypnose/lib/python3.12/site-packages/pandas/io/parsers/readers.py:1026\u001b[39m, in \u001b[36mread_csv\u001b[39m\u001b[34m(filepath_or_buffer, sep, delimiter, header, names, index_col, usecols, dtype, engine, converters, true_values, false_values, skipinitialspace, skiprows, skipfooter, nrows, na_values, keep_default_na, na_filter, verbose, skip_blank_lines, parse_dates, infer_datetime_format, keep_date_col, date_parser, date_format, dayfirst, cache_dates, iterator, chunksize, compression, thousands, decimal, lineterminator, quotechar, quoting, doublequote, escapechar, comment, encoding, encoding_errors, dialect, on_bad_lines, delim_whitespace, low_memory, memory_map, float_precision, storage_options, dtype_backend)\u001b[39m\n\u001b[32m   1013\u001b[39m kwds_defaults = _refine_defaults_read(\n\u001b[32m   1014\u001b[39m     dialect,\n\u001b[32m   1015\u001b[39m     delimiter,\n\u001b[32m   (...)\u001b[39m\u001b[32m   1022\u001b[39m     dtype_backend=dtype_backend,\n\u001b[32m   1023\u001b[39m )\n\u001b[32m   1024\u001b[39m kwds.update(kwds_defaults)\n\u001b[32m-> \u001b[39m\u001b[32m1026\u001b[39m \u001b[38;5;28;01mreturn\u001b[39;00m _read(filepath_or_buffer, kwds)\n",
      "\u001b[36mFile \u001b[39m\u001b[32m~/miniconda3/envs/hypnose/lib/python3.12/site-packages/pandas/io/parsers/readers.py:620\u001b[39m, in \u001b[36m_read\u001b[39m\u001b[34m(filepath_or_buffer, kwds)\u001b[39m\n\u001b[32m    617\u001b[39m _validate_names(kwds.get(\u001b[33m\"\u001b[39m\u001b[33mnames\u001b[39m\u001b[33m\"\u001b[39m, \u001b[38;5;28;01mNone\u001b[39;00m))\n\u001b[32m    619\u001b[39m \u001b[38;5;66;03m# Create the parser.\u001b[39;00m\n\u001b[32m--> \u001b[39m\u001b[32m620\u001b[39m parser = TextFileReader(filepath_or_buffer, **kwds)\n\u001b[32m    622\u001b[39m \u001b[38;5;28;01mif\u001b[39;00m chunksize \u001b[38;5;129;01mor\u001b[39;00m iterator:\n\u001b[32m    623\u001b[39m     \u001b[38;5;28;01mreturn\u001b[39;00m parser\n",
      "\u001b[36mFile \u001b[39m\u001b[32m~/miniconda3/envs/hypnose/lib/python3.12/site-packages/pandas/io/parsers/readers.py:1620\u001b[39m, in \u001b[36mTextFileReader.__init__\u001b[39m\u001b[34m(self, f, engine, **kwds)\u001b[39m\n\u001b[32m   1617\u001b[39m     \u001b[38;5;28mself\u001b[39m.options[\u001b[33m\"\u001b[39m\u001b[33mhas_index_names\u001b[39m\u001b[33m\"\u001b[39m] = kwds[\u001b[33m\"\u001b[39m\u001b[33mhas_index_names\u001b[39m\u001b[33m\"\u001b[39m]\n\u001b[32m   1619\u001b[39m \u001b[38;5;28mself\u001b[39m.handles: IOHandles | \u001b[38;5;28;01mNone\u001b[39;00m = \u001b[38;5;28;01mNone\u001b[39;00m\n\u001b[32m-> \u001b[39m\u001b[32m1620\u001b[39m \u001b[38;5;28mself\u001b[39m._engine = \u001b[38;5;28mself\u001b[39m._make_engine(f, \u001b[38;5;28mself\u001b[39m.engine)\n",
      "\u001b[36mFile \u001b[39m\u001b[32m~/miniconda3/envs/hypnose/lib/python3.12/site-packages/pandas/io/parsers/readers.py:1880\u001b[39m, in \u001b[36mTextFileReader._make_engine\u001b[39m\u001b[34m(self, f, engine)\u001b[39m\n\u001b[32m   1878\u001b[39m     \u001b[38;5;28;01mif\u001b[39;00m \u001b[33m\"\u001b[39m\u001b[33mb\u001b[39m\u001b[33m\"\u001b[39m \u001b[38;5;129;01mnot\u001b[39;00m \u001b[38;5;129;01min\u001b[39;00m mode:\n\u001b[32m   1879\u001b[39m         mode += \u001b[33m\"\u001b[39m\u001b[33mb\u001b[39m\u001b[33m\"\u001b[39m\n\u001b[32m-> \u001b[39m\u001b[32m1880\u001b[39m \u001b[38;5;28mself\u001b[39m.handles = get_handle(\n\u001b[32m   1881\u001b[39m     f,\n\u001b[32m   1882\u001b[39m     mode,\n\u001b[32m   1883\u001b[39m     encoding=\u001b[38;5;28mself\u001b[39m.options.get(\u001b[33m\"\u001b[39m\u001b[33mencoding\u001b[39m\u001b[33m\"\u001b[39m, \u001b[38;5;28;01mNone\u001b[39;00m),\n\u001b[32m   1884\u001b[39m     compression=\u001b[38;5;28mself\u001b[39m.options.get(\u001b[33m\"\u001b[39m\u001b[33mcompression\u001b[39m\u001b[33m\"\u001b[39m, \u001b[38;5;28;01mNone\u001b[39;00m),\n\u001b[32m   1885\u001b[39m     memory_map=\u001b[38;5;28mself\u001b[39m.options.get(\u001b[33m\"\u001b[39m\u001b[33mmemory_map\u001b[39m\u001b[33m\"\u001b[39m, \u001b[38;5;28;01mFalse\u001b[39;00m),\n\u001b[32m   1886\u001b[39m     is_text=is_text,\n\u001b[32m   1887\u001b[39m     errors=\u001b[38;5;28mself\u001b[39m.options.get(\u001b[33m\"\u001b[39m\u001b[33mencoding_errors\u001b[39m\u001b[33m\"\u001b[39m, \u001b[33m\"\u001b[39m\u001b[33mstrict\u001b[39m\u001b[33m\"\u001b[39m),\n\u001b[32m   1888\u001b[39m     storage_options=\u001b[38;5;28mself\u001b[39m.options.get(\u001b[33m\"\u001b[39m\u001b[33mstorage_options\u001b[39m\u001b[33m\"\u001b[39m, \u001b[38;5;28;01mNone\u001b[39;00m),\n\u001b[32m   1889\u001b[39m )\n\u001b[32m   1890\u001b[39m \u001b[38;5;28;01massert\u001b[39;00m \u001b[38;5;28mself\u001b[39m.handles \u001b[38;5;129;01mis\u001b[39;00m \u001b[38;5;129;01mnot\u001b[39;00m \u001b[38;5;28;01mNone\u001b[39;00m\n\u001b[32m   1891\u001b[39m f = \u001b[38;5;28mself\u001b[39m.handles.handle\n",
      "\u001b[36mFile \u001b[39m\u001b[32m~/miniconda3/envs/hypnose/lib/python3.12/site-packages/pandas/io/common.py:873\u001b[39m, in \u001b[36mget_handle\u001b[39m\u001b[34m(path_or_buf, mode, encoding, compression, memory_map, is_text, errors, storage_options)\u001b[39m\n\u001b[32m    868\u001b[39m \u001b[38;5;28;01melif\u001b[39;00m \u001b[38;5;28misinstance\u001b[39m(handle, \u001b[38;5;28mstr\u001b[39m):\n\u001b[32m    869\u001b[39m     \u001b[38;5;66;03m# Check whether the filename is to be opened in binary mode.\u001b[39;00m\n\u001b[32m    870\u001b[39m     \u001b[38;5;66;03m# Binary mode does not support 'encoding' and 'newline'.\u001b[39;00m\n\u001b[32m    871\u001b[39m     \u001b[38;5;28;01mif\u001b[39;00m ioargs.encoding \u001b[38;5;129;01mand\u001b[39;00m \u001b[33m\"\u001b[39m\u001b[33mb\u001b[39m\u001b[33m\"\u001b[39m \u001b[38;5;129;01mnot\u001b[39;00m \u001b[38;5;129;01min\u001b[39;00m ioargs.mode:\n\u001b[32m    872\u001b[39m         \u001b[38;5;66;03m# Encoding\u001b[39;00m\n\u001b[32m--> \u001b[39m\u001b[32m873\u001b[39m         handle = \u001b[38;5;28mopen\u001b[39m(\n\u001b[32m    874\u001b[39m             handle,\n\u001b[32m    875\u001b[39m             ioargs.mode,\n\u001b[32m    876\u001b[39m             encoding=ioargs.encoding,\n\u001b[32m    877\u001b[39m             errors=errors,\n\u001b[32m    878\u001b[39m             newline=\u001b[33m\"\u001b[39m\u001b[33m\"\u001b[39m,\n\u001b[32m    879\u001b[39m         )\n\u001b[32m    880\u001b[39m     \u001b[38;5;28;01melse\u001b[39;00m:\n\u001b[32m    881\u001b[39m         \u001b[38;5;66;03m# Binary mode\u001b[39;00m\n\u001b[32m    882\u001b[39m         handle = \u001b[38;5;28mopen\u001b[39m(handle, ioargs.mode)\n",
      "\u001b[36mFile \u001b[39m\u001b[32m<frozen codecs>:309\u001b[39m, in \u001b[36m__init__\u001b[39m\u001b[34m(self, errors)\u001b[39m\n",
      "\u001b[31mKeyboardInterrupt\u001b[39m: "
     ]
    }
   ],
   "source": [
    "# Run all behavioral metrics. Can be run on one or multiple subjects and dates ([...] for multiple subject, or None for all subjects). Specify protocol to filter sessions (None for all protocols).\n",
    "all_metrics = batch_run_all_metrics_with_merge(subjids=None, dates=[20250918], protocol=None)"
   ]
  },
  {
   "cell_type": "code",
   "execution_count": 3,
   "metadata": {},
   "outputs": [],
   "source": [
    "results = load_session_results(26, 20250915)"
   ]
  },
  {
   "cell_type": "code",
   "execution_count": 4,
   "metadata": {},
   "outputs": [
    {
     "name": "stdout",
     "output_type": "stream",
     "text": [
      "\n",
      "--- Decision Accuracy ---\n",
      "Decision Accuracy: 132/138 = 0.957\n",
      "\n",
      "--- Premature Response Rate ---\n",
      "Premature Response Rate: 51/54 = 0.944\n",
      "\n",
      "--- Response-Contingent False Alarm Rate ---\n",
      "Response-Contingent False Alarm Rate: 51/189 = 0.270\n",
      "\n",
      "--- Global False Alarm Rate ---\n",
      "Global False Alarm Rate: 51/196 = 0.260\n",
      "\n",
      "--- FA Odor Bias ---\n",
      "FA Odor Bias for FA Time In:\n",
      "OdorA: 1/2 FA, Bias: 1.421\n",
      "OdorB: 2/2 FA, Bias: 2.842\n",
      "OdorC: 4/13 FA, Bias: 0.874\n",
      "OdorD: 0/7 FA, Bias: 0.000\n",
      "OdorE: 4/8 FA, Bias: 1.421\n",
      "OdorF: 4/13 FA, Bias: 0.874\n",
      "OdorG: 4/9 FA, Bias: 1.263\n",
      "\n",
      "--- FA Position Bias ---\n",
      "FA Position Bias for FA Time In:\n",
      "Position 1: 1/5 FA, Bias: 0.568\n",
      "Position 2: 4/18 FA, Bias: 0.632\n",
      "Position 3: 4/14 FA, Bias: 0.812\n",
      "Position 4: 7/13 FA, Bias: 1.530\n",
      "Position 5: 3/4 FA, Bias: 2.132\n",
      "\n",
      "--- Sequence Completion Rate ---\n",
      "Sequence Completion Rate: 142/196 = 0.724\n",
      "\n",
      "--- Odor Abortion Rate ---\n",
      "OdorA: 2/70 abortions, Rate: 0.029\n",
      "OdorB: 2/81 abortions, Rate: 0.025\n",
      "OdorC: 13/131 abortions, Rate: 0.099\n",
      "OdorD: 7/124 abortions, Rate: 0.056\n",
      "OdorE: 8/123 abortions, Rate: 0.065\n",
      "OdorF: 13/126 abortions, Rate: 0.103\n",
      "OdorG: 9/133 abortions, Rate: 0.068\n",
      "\n",
      "--- Hidden Rule Performance ---\n",
      "Hidden Rule Performance: 20/27 = 0.741\n",
      "\n",
      "--- Hidden Rule Detection Rate ---\n",
      "Hidden Rule Detection Rate: 22/27 = 0.815\n",
      "\n",
      "--- Choice Timeout Rate ---\n",
      "Choice Timeout Rate: 4/142 = 0.028\n",
      "\n",
      "--- Average Sampling Time per Odor (Completed) ---\n",
      "OdorA Average Sampling Time: 435.07 ms\n",
      "OdorB Average Sampling Time: 471.07 ms\n",
      "OdorC Average Sampling Time: 874.39 ms\n",
      "OdorD Average Sampling Time: 840.16 ms\n",
      "OdorE Average Sampling Time: 816.16 ms\n",
      "OdorF Average Sampling Time: 782.88 ms\n",
      "OdorG Average Sampling Time: 784.80 ms\n",
      "\n",
      "--- Average Sampling Time (Completed Sequences) ---\n",
      "Average Sampling Time (Completed Sequences): 735.18 ms\n",
      "\n",
      "--- Average Sampling Time (Aborted Sequences) ---\n",
      "Average Sampling Time (Aborted Sequences): 676.90 ms\n",
      "\n",
      "--- Average Sampling Time (Initiation Abortions) ---\n",
      "Average Sampling Time (Initiation Abortions): 166.16 ms\n",
      "\n",
      "--- Abortion Rate by Position ---\n",
      "Position 1: 5/198 abortions, Rate: 0.025\n",
      "Position 2: 18/170 abortions, Rate: 0.106\n",
      "Position 3: 14/152 abortions, Rate: 0.092\n",
      "Position 4: 13/138 abortions, Rate: 0.094\n",
      "Position 5: 4/125 abortions, Rate: 0.032\n",
      "\n",
      "--- Average Response Time ---\n",
      "Rewarded: 1482.9 ms (n=132)\n",
      "Unrewarded: 1602.9 ms (n=6)\n",
      "Reward Timeout: 11426.0 ms (n=4)\n",
      "Average Response Time (Rewarded + Unrewarded): 1488.1 ms (n=138)\n",
      "\n",
      "--- FA Average Response Times ---\n",
      "Non-Initiated FA Response Times:\n",
      "  - FA Time In: avg=1784.0 ms, median=1806.9 ms, n=4\n",
      "  - FA Time Out: avg=2351.2 ms, median=2160.0 ms, n=5\n",
      "  - FA Late: n=0\n",
      "\n",
      "Aborted Trials FA Response Times:\n",
      "  - FA Time In: avg=1392.3 ms, median=1322.3 ms, n=19\n",
      "  - FA Time Out: avg=3578.1 ms, median=2861.9 ms, n=14\n",
      "  - FA Late: avg=86925.5 ms, median=8542.9 ms, n=18\n",
      "\n",
      "\n",
      "--- Response Rate ---\n",
      "Response Rate: 138/142 = 0.972\n",
      "\n",
      "--- Manual vs Auto Stop Preference ---\n",
      "Manual Stops: 276\n",
      "Auto Stops: 342\n",
      "Manual vs Auto Stop: 0.81\n",
      "\n",
      "--- Non-Initiated FA Rate ---\n",
      "Non-Initiated FA Rate: 9/88 = 0.102\n",
      "\n",
      "--- Non-Initiation Odor Bias ---\n",
      "OdorA: 8/20 non-initiated, Bias: 1.291\n",
      "OdorB: 7/22 non-initiated, Bias: 1.027\n",
      "OdorC: 18/50 non-initiated, Bias: 1.162\n",
      "OdorD: 9/36 non-initiated, Bias: 0.807\n",
      "OdorE: 10/42 non-initiated, Bias: 0.768\n",
      "OdorF: 19/67 non-initiated, Bias: 0.915\n",
      "OdorG: 17/47 non-initiated, Bias: 1.167\n",
      "\n",
      "--- Odor Initiation Bias ---\n",
      "OdorA: 2/2 initiation abortions, Bias: 1.588\n",
      "OdorB: 2/2 initiation abortions, Bias: 1.588\n",
      "OdorC: 7/13 initiation abortions, Bias: 0.855\n",
      "OdorD: 4/7 initiation abortions, Bias: 0.908\n",
      "OdorE: 5/8 initiation abortions, Bias: 0.993\n",
      "OdorF: 7/13 initiation abortions, Bias: 0.855\n",
      "OdorG: 7/9 initiation abortions, Bias: 1.235\n",
      "\n",
      "--- FA Abortion Stats ---\n",
      "\n",
      "FA Abortion Stats by Odor:\n",
      " Odor  Total Abortions FA Abortion Rate FA Time In FA Time Out  FA Late\n",
      "OdorA                2       2/2 (1.00)   1 (0.50)    1 (0.50) 0 (0.00)\n",
      "OdorB                2       2/2 (1.00)   2 (1.00)    0 (0.00) 0 (0.00)\n",
      "OdorC               13     12/13 (0.92)   4 (0.31)    2 (0.15) 6 (0.46)\n",
      "OdorD                7       7/7 (1.00)   0 (0.00)    4 (0.57) 3 (0.43)\n",
      "OdorE                8       7/8 (0.88)   4 (0.50)    3 (0.38) 0 (0.00)\n",
      "OdorF               13     13/13 (1.00)   4 (0.31)    3 (0.23) 6 (0.46)\n",
      "OdorG                9       8/9 (0.89)   4 (0.44)    1 (0.11) 3 (0.33)\n",
      "\n",
      "FA Abortion Stats by Position:\n",
      " Position  Total Abortions FA Abortion Rate FA Time In FA Time Out  FA Late\n",
      "        1                5       5/5 (1.00)   1 (0.20)    2 (0.40) 2 (0.40)\n",
      "        2               18     17/18 (0.94)   4 (0.22)    4 (0.22) 9 (0.50)\n",
      "        3               14     13/14 (0.93)   4 (0.29)    5 (0.36) 4 (0.29)\n",
      "        4               13     12/13 (0.92)   7 (0.54)    2 (0.15) 3 (0.23)\n",
      "        5                4       4/4 (1.00)   3 (0.75)    1 (0.25) 0 (0.00)\n",
      "\n",
      "FA Abortion Stats by Odor and Position:\n",
      " Odor  Position  Total Abortions FA Abortion Rate FA Time In FA Time Out  FA Late\n",
      "OdorA         5                2       2/2 (1.00)   1 (0.50)    1 (0.50) 0 (0.00)\n",
      "OdorB         5                2       2/2 (1.00)   2 (1.00)    0 (0.00) 0 (0.00)\n",
      "OdorC         1                1       1/1 (1.00)   0 (0.00)    0 (0.00) 1 (1.00)\n",
      "OdorC         2                5       4/5 (0.80)   2 (0.40)    0 (0.00) 2 (0.40)\n",
      "OdorC         3                2       2/2 (1.00)   0 (0.00)    1 (0.50) 1 (0.50)\n",
      "OdorC         4                5       5/5 (1.00)   2 (0.40)    1 (0.20) 2 (0.40)\n",
      "OdorD         1                1       1/1 (1.00)   0 (0.00)    0 (0.00) 1 (1.00)\n",
      "OdorD         3                5       5/5 (1.00)   0 (0.00)    3 (0.60) 2 (0.40)\n",
      "OdorD         4                1       1/1 (1.00)   0 (0.00)    1 (1.00) 0 (0.00)\n",
      "OdorE         1                1       1/1 (1.00)   1 (1.00)    0 (0.00) 0 (0.00)\n",
      "OdorE         2                2       2/2 (1.00)   0 (0.00)    2 (1.00) 0 (0.00)\n",
      "OdorE         3                4       3/4 (0.75)   2 (0.50)    1 (0.25) 0 (0.00)\n",
      "OdorE         4                1       1/1 (1.00)   1 (1.00)    0 (0.00) 0 (0.00)\n",
      "OdorF         1                2       2/2 (1.00)   0 (0.00)    2 (1.00) 0 (0.00)\n",
      "OdorF         2                6       6/6 (1.00)   0 (0.00)    1 (0.17) 5 (0.83)\n",
      "OdorF         3                2       2/2 (1.00)   1 (0.50)    0 (0.00) 1 (0.50)\n",
      "OdorF         4                3       3/3 (1.00)   3 (1.00)    0 (0.00) 0 (0.00)\n",
      "OdorG         2                5       5/5 (1.00)   2 (0.40)    1 (0.20) 2 (0.40)\n",
      "OdorG         3                1       1/1 (1.00)   1 (1.00)    0 (0.00) 0 (0.00)\n",
      "OdorG         4                3       2/3 (0.67)   1 (0.33)    0 (0.00) 1 (0.33)\n",
      "\n",
      "Saved metrics summary to /Volumes/harris/hypnose/derivatives/sub-026_id-077/ses-126_date-20250915/saved_analysis_results/metrics_26_20250915.txt\n",
      "Saved metrics values to /Volumes/harris/hypnose/derivatives/sub-026_id-077/ses-126_date-20250915/saved_analysis_results/metrics_26_20250915.json\n"
     ]
    }
   ],
   "source": [
    "metrics = run_all_metrics(results)"
   ]
  },
  {
   "cell_type": "code",
   "execution_count": 5,
   "metadata": {},
   "outputs": [
    {
     "name": "stdout",
     "output_type": "stream",
     "text": [
      "Decision Accuracy: 132/138 = 0.957\n"
     ]
    }
   ],
   "source": [
    "da = decision_accuracy(results)"
   ]
  },
  {
   "cell_type": "code",
   "execution_count": 6,
   "metadata": {},
   "outputs": [
    {
     "name": "stdout",
     "output_type": "stream",
     "text": [
      "Premature Response Rate: 51/54 = 0.944\n"
     ]
    }
   ],
   "source": [
    "pre_res_rate = premature_response_rate(results)"
   ]
  },
  {
   "cell_type": "code",
   "execution_count": null,
   "metadata": {},
   "outputs": [],
   "source": [
    "res_cont_FA = response_contingent_FA_rate(results)"
   ]
  },
  {
   "cell_type": "code",
   "execution_count": null,
   "metadata": {},
   "outputs": [],
   "source": [
    "glob_FA_rate_results = global_FA_rate(results)"
   ]
  },
  {
   "cell_type": "code",
   "execution_count": 8,
   "metadata": {},
   "outputs": [
    {
     "name": "stdout",
     "output_type": "stream",
     "text": [
      "FA Odor Bias for FA Time In:\n",
      "OdorA: 1/2 FA, Bias: 1.421\n",
      "OdorB: 2/2 FA, Bias: 2.842\n",
      "OdorC: 4/13 FA, Bias: 0.874\n",
      "OdorD: 0/7 FA, Bias: 0.000\n",
      "OdorE: 4/8 FA, Bias: 1.421\n",
      "OdorF: 4/13 FA, Bias: 0.874\n",
      "OdorG: 4/9 FA, Bias: 1.263\n"
     ]
    }
   ],
   "source": [
    "fa_odor_bias_result = FA_odor_bias(results)"
   ]
  },
  {
   "cell_type": "code",
   "execution_count": 11,
   "metadata": {},
   "outputs": [],
   "source": [
    "fa_position_bias = FA_position_bias(results)"
   ]
  },
  {
   "cell_type": "code",
   "execution_count": null,
   "metadata": {},
   "outputs": [],
   "source": [
    "completed_seqs = sequence_completion_rate(results)"
   ]
  },
  {
   "cell_type": "code",
   "execution_count": null,
   "metadata": {},
   "outputs": [],
   "source": [
    "odor_abortion_rates_result = odorx_abortion_rate(results)"
   ]
  },
  {
   "cell_type": "code",
   "execution_count": null,
   "metadata": {},
   "outputs": [],
   "source": [
    "hidden_rule_performance_results = hidden_rule_performance(results)\n"
   ]
  },
  {
   "cell_type": "code",
   "execution_count": null,
   "metadata": {},
   "outputs": [],
   "source": [
    "hidden_rule_detection_results = hidden_rule_detection_rate(results)"
   ]
  },
  {
   "cell_type": "code",
   "execution_count": null,
   "metadata": {},
   "outputs": [],
   "source": [
    "choice_timeouts = choice_timeout_rate(results)"
   ]
  },
  {
   "cell_type": "code",
   "execution_count": null,
   "metadata": {},
   "outputs": [],
   "source": [
    "avg_sampling_results = avg_sampling_time_odor_x(results)"
   ]
  },
  {
   "cell_type": "code",
   "execution_count": null,
   "metadata": {},
   "outputs": [],
   "source": [
    "avg_sampling_completed_seq_results = avg_sampling_time_completed_sequence(results)"
   ]
  },
  {
   "cell_type": "code",
   "execution_count": null,
   "metadata": {},
   "outputs": [],
   "source": [
    "avg_sampling_aborted_sequence_result = avg_sampling_time_aborted_sequence(results)\n",
    "# Note: different from the one calculated in the merge summary, as this does not drop poke times < minimum_sampling_time_ms"
   ]
  },
  {
   "cell_type": "code",
   "execution_count": null,
   "metadata": {},
   "outputs": [],
   "source": [
    "avg_sampling_initiation = avg_sampling_time_initiation_abortion(results)"
   ]
  },
  {
   "cell_type": "code",
   "execution_count": null,
   "metadata": {},
   "outputs": [],
   "source": [
    "abortion_rate_results = abortion_rate_positionX(results)\n"
   ]
  },
  {
   "cell_type": "code",
   "execution_count": 7,
   "metadata": {},
   "outputs": [
    {
     "name": "stdout",
     "output_type": "stream",
     "text": [
      "Rewarded: 1482.9 ms (n=132)\n",
      "Unrewarded: 1602.9 ms (n=6)\n",
      "Reward Timeout: 11426.0 ms (n=4)\n",
      "Average Response Time (Rewarded + Unrewarded): 1488.1 ms (n=138)\n"
     ]
    }
   ],
   "source": [
    "avg_response_time_results = avg_response_time(results)\n"
   ]
  },
  {
   "cell_type": "code",
   "execution_count": null,
   "metadata": {},
   "outputs": [],
   "source": [
    "FA_response_time_results = FA_avg_response_times(results)\n"
   ]
  },
  {
   "cell_type": "code",
   "execution_count": null,
   "metadata": {},
   "outputs": [],
   "source": [
    "resposne_rate_results = response_rate(results)"
   ]
  },
  {
   "cell_type": "code",
   "execution_count": null,
   "metadata": {},
   "outputs": [],
   "source": [
    "stop_preference = manual_vs_auto_stop_preference(results)"
   ]
  },
  {
   "cell_type": "code",
   "execution_count": null,
   "metadata": {},
   "outputs": [],
   "source": [
    "non_initiated_FA_rate_results = non_initiated_FA_rate(results)"
   ]
  },
  {
   "cell_type": "code",
   "execution_count": null,
   "metadata": {},
   "outputs": [],
   "source": [
    "non_initiation_odor_bias_results = non_initiation_odor_bias(results)"
   ]
  },
  {
   "cell_type": "code",
   "execution_count": null,
   "metadata": {},
   "outputs": [],
   "source": [
    "odor_init_bias_results = odor_initiation_bias(results)"
   ]
  },
  {
   "cell_type": "code",
   "execution_count": null,
   "metadata": {},
   "outputs": [],
   "source": [
    "fa_abortion_stats_results = fa_abortion_stats(results)"
   ]
  }
 ],
 "metadata": {
  "kernelspec": {
   "display_name": "hypnose",
   "language": "python",
   "name": "python3"
  },
  "language_info": {
   "codemirror_mode": {
    "name": "ipython",
    "version": 3
   },
   "file_extension": ".py",
   "mimetype": "text/x-python",
   "name": "python",
   "nbconvert_exporter": "python",
   "pygments_lexer": "ipython3",
   "version": "3.12.11"
  }
 },
 "nbformat": 4,
 "nbformat_minor": 2
}
