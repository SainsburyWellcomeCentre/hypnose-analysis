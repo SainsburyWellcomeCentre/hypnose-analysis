{
 "cells": [
  {
   "cell_type": "code",
   "execution_count": 1,
   "metadata": {},
   "outputs": [],
   "source": [
    "%load_ext autoreload\n",
    "%autoreload 2\n",
    "import sys\n",
    "import os\n",
    "project_root = os.path.abspath(\"/Users/joschua/repos/harris_lab/hypnose/hypnose-analysis\")\n",
    "if project_root not in sys.path:\n",
    "    sys.path.append(project_root)\n",
    "import pandas as pd\n",
    "import numpy as np \n",
    "from pathlib import Path\n",
    "import behavioral_metrics\n",
    "from behavioral_metrics import * \n",
    "import harp\n",
    "from ipywidgets import widgets\n",
    "from IPython.display import display\n",
    "\n",
    "\n",
    "\n",
    "%matplotlib widget"
   ]
  },
  {
   "cell_type": "code",
   "execution_count": 2,
   "metadata": {},
   "outputs": [],
   "source": [
    "results = load_session_results(26, 20250915)"
   ]
  },
  {
   "cell_type": "code",
   "execution_count": null,
   "metadata": {},
   "outputs": [
    {
     "name": "stdout",
     "output_type": "stream",
     "text": [
      "Decision Accuracy: 132/138 = 0.957\n"
     ]
    }
   ],
   "source": [
    "da = decision_accuracy(results)"
   ]
  },
  {
   "cell_type": "code",
   "execution_count": 14,
   "metadata": {},
   "outputs": [
    {
     "name": "stdout",
     "output_type": "stream",
     "text": [
      "Premature Response Rate: 51/54 = 0.944\n"
     ]
    }
   ],
   "source": [
    "pre_res_rate = premature_response_rate(results)"
   ]
  },
  {
   "cell_type": "code",
   "execution_count": 15,
   "metadata": {},
   "outputs": [
    {
     "name": "stdout",
     "output_type": "stream",
     "text": [
      "Response-Contingent False Alarm Rate: 51/189 = 0.270\n"
     ]
    }
   ],
   "source": [
    "res_cont_FA = response_contingent_FA_rate(results)"
   ]
  },
  {
   "cell_type": "code",
   "execution_count": null,
   "metadata": {},
   "outputs": [
    {
     "name": "stdout",
     "output_type": "stream",
     "text": [
      "Global False Alarm Rate: 51/196 = 0.260\n",
      "Global False Alarm Rate: 0.26\n"
     ]
    }
   ],
   "source": [
    "glob_FA_rate_results = global_FA_rate(results)"
   ]
  },
  {
   "cell_type": "code",
   "execution_count": null,
   "metadata": {},
   "outputs": [
    {
     "name": "stdout",
     "output_type": "stream",
     "text": [
      "FA Odor Bias for FA Time In:\n",
      "OdorA: 1/2 FA, Bias: 1.421\n",
      "OdorB: 2/2 FA, Bias: 2.842\n",
      "OdorC: 4/13 FA, Bias: 0.874\n",
      "OdorD: 0/7 FA, Bias: 0.000\n",
      "OdorE: 4/8 FA, Bias: 1.421\n",
      "OdorF: 4/13 FA, Bias: 0.874\n",
      "OdorG: 4/9 FA, Bias: 1.263\n"
     ]
    }
   ],
   "source": [
    "fa_odor_bias_result = FA_odor_bias(results)"
   ]
  },
  {
   "cell_type": "code",
   "execution_count": null,
   "metadata": {},
   "outputs": [
    {
     "name": "stdout",
     "output_type": "stream",
     "text": [
      "FA Position Bias for FA Time In:\n",
      "Position 1: 1/5 FA, Bias: 0.568\n",
      "Position 2: 4/18 FA, Bias: 0.632\n",
      "Position 3: 4/14 FA, Bias: 0.812\n",
      "Position 4: 7/13 FA, Bias: 1.530\n",
      "Position 5: 3/4 FA, Bias: 2.132\n",
      "Position: 1, FA Position Bias: 0.57\n",
      "Position: 2, FA Position Bias: 0.63\n",
      "Position: 3, FA Position Bias: 0.81\n",
      "Position: 4, FA Position Bias: 1.53\n",
      "Position: 5, FA Position Bias: 2.13\n"
     ]
    }
   ],
   "source": [
    "fa_position_bias = FA_position_bias(results)"
   ]
  },
  {
   "cell_type": "code",
   "execution_count": null,
   "metadata": {},
   "outputs": [
    {
     "name": "stdout",
     "output_type": "stream",
     "text": [
      "Sequence Completion Rate: 142/196 = 0.724\n",
      "Sequence Completion Rate: 0.72\n"
     ]
    }
   ],
   "source": [
    "completed_seqs = sequence_completion_rate(results)"
   ]
  },
  {
   "cell_type": "code",
   "execution_count": 27,
   "metadata": {},
   "outputs": [
    {
     "name": "stdout",
     "output_type": "stream",
     "text": [
      "OdorA: 2/70 abortions, Rate: 0.029\n",
      "OdorB: 2/81 abortions, Rate: 0.025\n",
      "OdorC: 13/131 abortions, Rate: 0.099\n",
      "OdorD: 7/124 abortions, Rate: 0.056\n",
      "OdorE: 8/123 abortions, Rate: 0.065\n",
      "OdorF: 13/126 abortions, Rate: 0.103\n",
      "OdorG: 9/133 abortions, Rate: 0.068\n"
     ]
    }
   ],
   "source": [
    "odor_abortion_rates_result = odorx_abortion_rate(results)"
   ]
  },
  {
   "cell_type": "code",
   "execution_count": null,
   "metadata": {},
   "outputs": [
    {
     "name": "stdout",
     "output_type": "stream",
     "text": [
      "Hidden Rule Performance: 20/27 = 0.741\n",
      "Hidden Rule Performance: 0.74\n"
     ]
    }
   ],
   "source": [
    "hidden_rule_performance_results = hidden_rule_performance(results)\n"
   ]
  },
  {
   "cell_type": "code",
   "execution_count": null,
   "metadata": {},
   "outputs": [
    {
     "name": "stdout",
     "output_type": "stream",
     "text": [
      "Hidden Rule Detection Rate: 22/27 = 0.815\n",
      "Hidden Rule Detection Rate: 0.81\n"
     ]
    }
   ],
   "source": [
    "hidden_rule_detection_results = hidden_rule_detection_rate(results)"
   ]
  },
  {
   "cell_type": "code",
   "execution_count": null,
   "metadata": {},
   "outputs": [
    {
     "name": "stdout",
     "output_type": "stream",
     "text": [
      "Choice Timeout Rate: 4/142 = 0.028\n",
      "Choice Timeout Rate: 0.03\n"
     ]
    }
   ],
   "source": [
    "choice_timeouts = choice_timeout_rate(results)"
   ]
  },
  {
   "cell_type": "code",
   "execution_count": null,
   "metadata": {},
   "outputs": [
    {
     "name": "stdout",
     "output_type": "stream",
     "text": [
      "OdorA Average Sampling Time: 435.07 ms\n",
      "OdorB Average Sampling Time: 471.07 ms\n",
      "OdorC Average Sampling Time: 874.39 ms\n",
      "OdorD Average Sampling Time: 840.16 ms\n",
      "OdorE Average Sampling Time: 816.16 ms\n",
      "OdorF Average Sampling Time: 782.88 ms\n",
      "OdorG Average Sampling Time: 784.80 ms\n",
      "Odor: OdorA, Average Sampling Time: 435.07 seconds\n",
      "Odor: OdorB, Average Sampling Time: 471.07 seconds\n",
      "Odor: OdorC, Average Sampling Time: 874.39 seconds\n",
      "Odor: OdorD, Average Sampling Time: 840.16 seconds\n",
      "Odor: OdorE, Average Sampling Time: 816.16 seconds\n",
      "Odor: OdorF, Average Sampling Time: 782.88 seconds\n",
      "Odor: OdorG, Average Sampling Time: 784.80 seconds\n"
     ]
    }
   ],
   "source": [
    "avg_sampling_results = avg_sampling_time_odor_x(results)"
   ]
  },
  {
   "cell_type": "code",
   "execution_count": null,
   "metadata": {},
   "outputs": [
    {
     "name": "stdout",
     "output_type": "stream",
     "text": [
      "Average Sampling Time (Completed Sequences): 735.18 ms\n",
      "Average Sampling Time per Odor for Completed Sequences: 735.18 seconds\n"
     ]
    }
   ],
   "source": [
    "avg_sampling_completed_seq_results = avg_sampling_time_completed_sequence(results)"
   ]
  },
  {
   "cell_type": "code",
   "execution_count": null,
   "metadata": {},
   "outputs": [
    {
     "name": "stdout",
     "output_type": "stream",
     "text": [
      "Average Sampling Time (Aborted Sequences): 676.90 ms\n",
      "Average Sampling Time per Odor for Aborted Sequences: 676.90 seconds\n"
     ]
    }
   ],
   "source": [
    "avg_sampling_aborted_sequence_result = avg_sampling_time_aborted_sequence(results)\n",
    "# Note: different from the one calculated in the merge summary, as this does not drop poke times < minimum_sampling_time_ms"
   ]
  },
  {
   "cell_type": "code",
   "execution_count": 45,
   "metadata": {},
   "outputs": [
    {
     "name": "stdout",
     "output_type": "stream",
     "text": [
      "Average Sampling Time (Initiation Abortions): 166.16 ms\n"
     ]
    }
   ],
   "source": [
    "avg_sampling_initiation = avg_sampling_time_initiation_abortion(results)"
   ]
  },
  {
   "cell_type": "code",
   "execution_count": 47,
   "metadata": {},
   "outputs": [
    {
     "name": "stdout",
     "output_type": "stream",
     "text": [
      "Position 1: 5/198 abortions, Rate: 0.025\n",
      "Position 2: 18/170 abortions, Rate: 0.106\n",
      "Position 3: 14/152 abortions, Rate: 0.092\n",
      "Position 4: 13/138 abortions, Rate: 0.094\n",
      "Position 5: 4/125 abortions, Rate: 0.032\n"
     ]
    }
   ],
   "source": [
    "abortion_rate_results = abortion_rate_positionX(results)\n"
   ]
  },
  {
   "cell_type": "code",
   "execution_count": 48,
   "metadata": {},
   "outputs": [
    {
     "name": "stdout",
     "output_type": "stream",
     "text": [
      "Rewarded: 1482.9 ms (n=132)\n",
      "Unrewarded: 1602.9 ms (n=6)\n",
      "Reward Timeout: 11426.0 ms (n=4)\n",
      "Average Response Time (Rewarded + Unrewarded): 1488.1 ms (n=138)\n"
     ]
    }
   ],
   "source": [
    "avg_response_time_results = avg_response_time(results)\n"
   ]
  },
  {
   "cell_type": "code",
   "execution_count": 35,
   "metadata": {},
   "outputs": [
    {
     "name": "stdout",
     "output_type": "stream",
     "text": [
      "Non-Initiated FA Response Times:\n",
      "  - FA Time In: avg=1784.0 ms, median=1806.9 ms, n=4\n",
      "  - FA Time Out: avg=2351.2 ms, median=2160.0 ms, n=5\n",
      "\n",
      "Aborted Trials FA Response Times:\n",
      "  - FA Time In: avg=1392.3 ms, median=1322.3 ms, n=19\n",
      "  - FA Time Out: avg=3578.1 ms, median=2861.9 ms, n=14\n",
      "  - FA Late: avg=86925.5 ms, median=8542.9 ms, n=18\n",
      "\n"
     ]
    }
   ],
   "source": [
    "FA_response_time_results = FA_avg_response_times(results)\n"
   ]
  },
  {
   "cell_type": "code",
   "execution_count": 50,
   "metadata": {},
   "outputs": [
    {
     "name": "stdout",
     "output_type": "stream",
     "text": [
      "Response Rate: 138/142 = 0.972\n"
     ]
    }
   ],
   "source": [
    "resposne_rate_results = response_rate(results)"
   ]
  },
  {
   "cell_type": "code",
   "execution_count": 43,
   "metadata": {},
   "outputs": [
    {
     "name": "stdout",
     "output_type": "stream",
     "text": [
      "Manual Stops: 276\n",
      "Auto Stops: 342\n",
      "Manual vs Auto Stop: 0.81\n"
     ]
    }
   ],
   "source": [
    "stop_preference = manual_vs_auto_stop_preference(results)"
   ]
  },
  {
   "cell_type": "code",
   "execution_count": 52,
   "metadata": {},
   "outputs": [
    {
     "name": "stdout",
     "output_type": "stream",
     "text": [
      "Non-Initiated FA Rate: 9/88 = 0.102\n"
     ]
    }
   ],
   "source": [
    "non_initiated_FA_rate_results = non_initiated_FA_rate(results)"
   ]
  },
  {
   "cell_type": "code",
   "execution_count": 56,
   "metadata": {},
   "outputs": [
    {
     "name": "stdout",
     "output_type": "stream",
     "text": [
      "OdorA: 8/20 non-initiated, Bias: 1.291\n",
      "OdorB: 7/22 non-initiated, Bias: 1.027\n",
      "OdorC: 18/50 non-initiated, Bias: 1.162\n",
      "OdorD: 9/36 non-initiated, Bias: 0.807\n",
      "OdorE: 10/42 non-initiated, Bias: 0.768\n",
      "OdorF: 19/67 non-initiated, Bias: 0.915\n",
      "OdorG: 17/47 non-initiated, Bias: 1.167\n"
     ]
    }
   ],
   "source": [
    "non_initiation_odor_bias_results = non_initiation_odor_bias(results)"
   ]
  },
  {
   "cell_type": "code",
   "execution_count": 58,
   "metadata": {},
   "outputs": [
    {
     "name": "stdout",
     "output_type": "stream",
     "text": [
      "OdorA: 2/2 initiation abortions, Bias: 1.588\n",
      "OdorB: 2/2 initiation abortions, Bias: 1.588\n",
      "OdorC: 7/13 initiation abortions, Bias: 0.855\n",
      "OdorD: 4/7 initiation abortions, Bias: 0.908\n",
      "OdorE: 5/8 initiation abortions, Bias: 0.993\n",
      "OdorF: 7/13 initiation abortions, Bias: 0.855\n",
      "OdorG: 7/9 initiation abortions, Bias: 1.235\n"
     ]
    }
   ],
   "source": [
    "odor_init_bias_results = odor_initiation_bias(results)"
   ]
  },
  {
   "cell_type": "code",
   "execution_count": 9,
   "metadata": {},
   "outputs": [
    {
     "name": "stdout",
     "output_type": "stream",
     "text": [
      "=== By Odor ===\n"
     ]
    },
    {
     "data": {
      "text/html": [
       "<div>\n",
       "<style scoped>\n",
       "    .dataframe tbody tr th:only-of-type {\n",
       "        vertical-align: middle;\n",
       "    }\n",
       "\n",
       "    .dataframe tbody tr th {\n",
       "        vertical-align: top;\n",
       "    }\n",
       "\n",
       "    .dataframe thead th {\n",
       "        text-align: right;\n",
       "    }\n",
       "</style>\n",
       "<table border=\"1\" class=\"dataframe\">\n",
       "  <thead>\n",
       "    <tr style=\"text-align: right;\">\n",
       "      <th></th>\n",
       "      <th>Odor</th>\n",
       "      <th>Total Abortions</th>\n",
       "      <th>FA Abortion Rate</th>\n",
       "      <th>FA Time In</th>\n",
       "      <th>FA Time Out</th>\n",
       "      <th>FA Late</th>\n",
       "    </tr>\n",
       "  </thead>\n",
       "  <tbody>\n",
       "    <tr>\n",
       "      <th>0</th>\n",
       "      <td>OdorA</td>\n",
       "      <td>2</td>\n",
       "      <td>2/2 (1.00)</td>\n",
       "      <td>1 (0.50)</td>\n",
       "      <td>1 (0.50)</td>\n",
       "      <td>0 (0.00)</td>\n",
       "    </tr>\n",
       "    <tr>\n",
       "      <th>1</th>\n",
       "      <td>OdorB</td>\n",
       "      <td>2</td>\n",
       "      <td>2/2 (1.00)</td>\n",
       "      <td>2 (1.00)</td>\n",
       "      <td>0 (0.00)</td>\n",
       "      <td>0 (0.00)</td>\n",
       "    </tr>\n",
       "    <tr>\n",
       "      <th>2</th>\n",
       "      <td>OdorC</td>\n",
       "      <td>13</td>\n",
       "      <td>12/13 (0.92)</td>\n",
       "      <td>4 (0.31)</td>\n",
       "      <td>2 (0.15)</td>\n",
       "      <td>6 (0.46)</td>\n",
       "    </tr>\n",
       "    <tr>\n",
       "      <th>3</th>\n",
       "      <td>OdorD</td>\n",
       "      <td>7</td>\n",
       "      <td>7/7 (1.00)</td>\n",
       "      <td>0 (0.00)</td>\n",
       "      <td>4 (0.57)</td>\n",
       "      <td>3 (0.43)</td>\n",
       "    </tr>\n",
       "    <tr>\n",
       "      <th>4</th>\n",
       "      <td>OdorE</td>\n",
       "      <td>8</td>\n",
       "      <td>7/8 (0.88)</td>\n",
       "      <td>4 (0.50)</td>\n",
       "      <td>3 (0.38)</td>\n",
       "      <td>0 (0.00)</td>\n",
       "    </tr>\n",
       "    <tr>\n",
       "      <th>5</th>\n",
       "      <td>OdorF</td>\n",
       "      <td>13</td>\n",
       "      <td>13/13 (1.00)</td>\n",
       "      <td>4 (0.31)</td>\n",
       "      <td>3 (0.23)</td>\n",
       "      <td>6 (0.46)</td>\n",
       "    </tr>\n",
       "    <tr>\n",
       "      <th>6</th>\n",
       "      <td>OdorG</td>\n",
       "      <td>9</td>\n",
       "      <td>8/9 (0.89)</td>\n",
       "      <td>4 (0.44)</td>\n",
       "      <td>1 (0.11)</td>\n",
       "      <td>3 (0.33)</td>\n",
       "    </tr>\n",
       "  </tbody>\n",
       "</table>\n",
       "</div>"
      ],
      "text/plain": [
       "    Odor  Total Abortions FA Abortion Rate FA Time In FA Time Out   FA Late\n",
       "0  OdorA                2       2/2 (1.00)   1 (0.50)    1 (0.50)  0 (0.00)\n",
       "1  OdorB                2       2/2 (1.00)   2 (1.00)    0 (0.00)  0 (0.00)\n",
       "2  OdorC               13     12/13 (0.92)   4 (0.31)    2 (0.15)  6 (0.46)\n",
       "3  OdorD                7       7/7 (1.00)   0 (0.00)    4 (0.57)  3 (0.43)\n",
       "4  OdorE                8       7/8 (0.88)   4 (0.50)    3 (0.38)  0 (0.00)\n",
       "5  OdorF               13     13/13 (1.00)   4 (0.31)    3 (0.23)  6 (0.46)\n",
       "6  OdorG                9       8/9 (0.89)   4 (0.44)    1 (0.11)  3 (0.33)"
      ]
     },
     "metadata": {},
     "output_type": "display_data"
    },
    {
     "name": "stdout",
     "output_type": "stream",
     "text": [
      "=== By Position ===\n"
     ]
    },
    {
     "data": {
      "text/html": [
       "<div>\n",
       "<style scoped>\n",
       "    .dataframe tbody tr th:only-of-type {\n",
       "        vertical-align: middle;\n",
       "    }\n",
       "\n",
       "    .dataframe tbody tr th {\n",
       "        vertical-align: top;\n",
       "    }\n",
       "\n",
       "    .dataframe thead th {\n",
       "        text-align: right;\n",
       "    }\n",
       "</style>\n",
       "<table border=\"1\" class=\"dataframe\">\n",
       "  <thead>\n",
       "    <tr style=\"text-align: right;\">\n",
       "      <th></th>\n",
       "      <th>Position</th>\n",
       "      <th>Total Abortions</th>\n",
       "      <th>FA Abortion Rate</th>\n",
       "      <th>FA Time In</th>\n",
       "      <th>FA Time Out</th>\n",
       "      <th>FA Late</th>\n",
       "    </tr>\n",
       "  </thead>\n",
       "  <tbody>\n",
       "    <tr>\n",
       "      <th>0</th>\n",
       "      <td>1</td>\n",
       "      <td>5</td>\n",
       "      <td>5/5 (1.00)</td>\n",
       "      <td>1 (0.20)</td>\n",
       "      <td>2 (0.40)</td>\n",
       "      <td>2 (0.40)</td>\n",
       "    </tr>\n",
       "    <tr>\n",
       "      <th>1</th>\n",
       "      <td>2</td>\n",
       "      <td>18</td>\n",
       "      <td>17/18 (0.94)</td>\n",
       "      <td>4 (0.22)</td>\n",
       "      <td>4 (0.22)</td>\n",
       "      <td>9 (0.50)</td>\n",
       "    </tr>\n",
       "    <tr>\n",
       "      <th>2</th>\n",
       "      <td>3</td>\n",
       "      <td>14</td>\n",
       "      <td>13/14 (0.93)</td>\n",
       "      <td>4 (0.29)</td>\n",
       "      <td>5 (0.36)</td>\n",
       "      <td>4 (0.29)</td>\n",
       "    </tr>\n",
       "    <tr>\n",
       "      <th>3</th>\n",
       "      <td>4</td>\n",
       "      <td>13</td>\n",
       "      <td>12/13 (0.92)</td>\n",
       "      <td>7 (0.54)</td>\n",
       "      <td>2 (0.15)</td>\n",
       "      <td>3 (0.23)</td>\n",
       "    </tr>\n",
       "    <tr>\n",
       "      <th>4</th>\n",
       "      <td>5</td>\n",
       "      <td>4</td>\n",
       "      <td>4/4 (1.00)</td>\n",
       "      <td>3 (0.75)</td>\n",
       "      <td>1 (0.25)</td>\n",
       "      <td>0 (0.00)</td>\n",
       "    </tr>\n",
       "  </tbody>\n",
       "</table>\n",
       "</div>"
      ],
      "text/plain": [
       "   Position  Total Abortions FA Abortion Rate FA Time In FA Time Out   FA Late\n",
       "0         1                5       5/5 (1.00)   1 (0.20)    2 (0.40)  2 (0.40)\n",
       "1         2               18     17/18 (0.94)   4 (0.22)    4 (0.22)  9 (0.50)\n",
       "2         3               14     13/14 (0.93)   4 (0.29)    5 (0.36)  4 (0.29)\n",
       "3         4               13     12/13 (0.92)   7 (0.54)    2 (0.15)  3 (0.23)\n",
       "4         5                4       4/4 (1.00)   3 (0.75)    1 (0.25)  0 (0.00)"
      ]
     },
     "metadata": {},
     "output_type": "display_data"
    },
    {
     "name": "stdout",
     "output_type": "stream",
     "text": [
      "=== By Odor+Position ===\n"
     ]
    },
    {
     "data": {
      "text/html": [
       "<div>\n",
       "<style scoped>\n",
       "    .dataframe tbody tr th:only-of-type {\n",
       "        vertical-align: middle;\n",
       "    }\n",
       "\n",
       "    .dataframe tbody tr th {\n",
       "        vertical-align: top;\n",
       "    }\n",
       "\n",
       "    .dataframe thead th {\n",
       "        text-align: right;\n",
       "    }\n",
       "</style>\n",
       "<table border=\"1\" class=\"dataframe\">\n",
       "  <thead>\n",
       "    <tr style=\"text-align: right;\">\n",
       "      <th></th>\n",
       "      <th>Odor</th>\n",
       "      <th>Position</th>\n",
       "      <th>Total Abortions</th>\n",
       "      <th>FA Abortion Rate</th>\n",
       "      <th>FA Time In</th>\n",
       "      <th>FA Time Out</th>\n",
       "      <th>FA Late</th>\n",
       "    </tr>\n",
       "  </thead>\n",
       "  <tbody>\n",
       "    <tr>\n",
       "      <th>0</th>\n",
       "      <td>OdorA</td>\n",
       "      <td>5</td>\n",
       "      <td>2</td>\n",
       "      <td>2/2 (1.00)</td>\n",
       "      <td>1 (0.50)</td>\n",
       "      <td>1 (0.50)</td>\n",
       "      <td>0 (0.00)</td>\n",
       "    </tr>\n",
       "    <tr>\n",
       "      <th>1</th>\n",
       "      <td>OdorB</td>\n",
       "      <td>5</td>\n",
       "      <td>2</td>\n",
       "      <td>2/2 (1.00)</td>\n",
       "      <td>2 (1.00)</td>\n",
       "      <td>0 (0.00)</td>\n",
       "      <td>0 (0.00)</td>\n",
       "    </tr>\n",
       "    <tr>\n",
       "      <th>2</th>\n",
       "      <td>OdorC</td>\n",
       "      <td>1</td>\n",
       "      <td>1</td>\n",
       "      <td>1/1 (1.00)</td>\n",
       "      <td>0 (0.00)</td>\n",
       "      <td>0 (0.00)</td>\n",
       "      <td>1 (1.00)</td>\n",
       "    </tr>\n",
       "    <tr>\n",
       "      <th>3</th>\n",
       "      <td>OdorC</td>\n",
       "      <td>2</td>\n",
       "      <td>5</td>\n",
       "      <td>4/5 (0.80)</td>\n",
       "      <td>2 (0.40)</td>\n",
       "      <td>0 (0.00)</td>\n",
       "      <td>2 (0.40)</td>\n",
       "    </tr>\n",
       "    <tr>\n",
       "      <th>4</th>\n",
       "      <td>OdorC</td>\n",
       "      <td>3</td>\n",
       "      <td>2</td>\n",
       "      <td>2/2 (1.00)</td>\n",
       "      <td>0 (0.00)</td>\n",
       "      <td>1 (0.50)</td>\n",
       "      <td>1 (0.50)</td>\n",
       "    </tr>\n",
       "    <tr>\n",
       "      <th>5</th>\n",
       "      <td>OdorC</td>\n",
       "      <td>4</td>\n",
       "      <td>5</td>\n",
       "      <td>5/5 (1.00)</td>\n",
       "      <td>2 (0.40)</td>\n",
       "      <td>1 (0.20)</td>\n",
       "      <td>2 (0.40)</td>\n",
       "    </tr>\n",
       "    <tr>\n",
       "      <th>6</th>\n",
       "      <td>OdorD</td>\n",
       "      <td>1</td>\n",
       "      <td>1</td>\n",
       "      <td>1/1 (1.00)</td>\n",
       "      <td>0 (0.00)</td>\n",
       "      <td>0 (0.00)</td>\n",
       "      <td>1 (1.00)</td>\n",
       "    </tr>\n",
       "    <tr>\n",
       "      <th>7</th>\n",
       "      <td>OdorD</td>\n",
       "      <td>3</td>\n",
       "      <td>5</td>\n",
       "      <td>5/5 (1.00)</td>\n",
       "      <td>0 (0.00)</td>\n",
       "      <td>3 (0.60)</td>\n",
       "      <td>2 (0.40)</td>\n",
       "    </tr>\n",
       "    <tr>\n",
       "      <th>8</th>\n",
       "      <td>OdorD</td>\n",
       "      <td>4</td>\n",
       "      <td>1</td>\n",
       "      <td>1/1 (1.00)</td>\n",
       "      <td>0 (0.00)</td>\n",
       "      <td>1 (1.00)</td>\n",
       "      <td>0 (0.00)</td>\n",
       "    </tr>\n",
       "    <tr>\n",
       "      <th>9</th>\n",
       "      <td>OdorE</td>\n",
       "      <td>1</td>\n",
       "      <td>1</td>\n",
       "      <td>1/1 (1.00)</td>\n",
       "      <td>1 (1.00)</td>\n",
       "      <td>0 (0.00)</td>\n",
       "      <td>0 (0.00)</td>\n",
       "    </tr>\n",
       "    <tr>\n",
       "      <th>10</th>\n",
       "      <td>OdorE</td>\n",
       "      <td>2</td>\n",
       "      <td>2</td>\n",
       "      <td>2/2 (1.00)</td>\n",
       "      <td>0 (0.00)</td>\n",
       "      <td>2 (1.00)</td>\n",
       "      <td>0 (0.00)</td>\n",
       "    </tr>\n",
       "    <tr>\n",
       "      <th>11</th>\n",
       "      <td>OdorE</td>\n",
       "      <td>3</td>\n",
       "      <td>4</td>\n",
       "      <td>3/4 (0.75)</td>\n",
       "      <td>2 (0.50)</td>\n",
       "      <td>1 (0.25)</td>\n",
       "      <td>0 (0.00)</td>\n",
       "    </tr>\n",
       "    <tr>\n",
       "      <th>12</th>\n",
       "      <td>OdorE</td>\n",
       "      <td>4</td>\n",
       "      <td>1</td>\n",
       "      <td>1/1 (1.00)</td>\n",
       "      <td>1 (1.00)</td>\n",
       "      <td>0 (0.00)</td>\n",
       "      <td>0 (0.00)</td>\n",
       "    </tr>\n",
       "    <tr>\n",
       "      <th>13</th>\n",
       "      <td>OdorF</td>\n",
       "      <td>1</td>\n",
       "      <td>2</td>\n",
       "      <td>2/2 (1.00)</td>\n",
       "      <td>0 (0.00)</td>\n",
       "      <td>2 (1.00)</td>\n",
       "      <td>0 (0.00)</td>\n",
       "    </tr>\n",
       "    <tr>\n",
       "      <th>14</th>\n",
       "      <td>OdorF</td>\n",
       "      <td>2</td>\n",
       "      <td>6</td>\n",
       "      <td>6/6 (1.00)</td>\n",
       "      <td>0 (0.00)</td>\n",
       "      <td>1 (0.17)</td>\n",
       "      <td>5 (0.83)</td>\n",
       "    </tr>\n",
       "    <tr>\n",
       "      <th>15</th>\n",
       "      <td>OdorF</td>\n",
       "      <td>3</td>\n",
       "      <td>2</td>\n",
       "      <td>2/2 (1.00)</td>\n",
       "      <td>1 (0.50)</td>\n",
       "      <td>0 (0.00)</td>\n",
       "      <td>1 (0.50)</td>\n",
       "    </tr>\n",
       "    <tr>\n",
       "      <th>16</th>\n",
       "      <td>OdorF</td>\n",
       "      <td>4</td>\n",
       "      <td>3</td>\n",
       "      <td>3/3 (1.00)</td>\n",
       "      <td>3 (1.00)</td>\n",
       "      <td>0 (0.00)</td>\n",
       "      <td>0 (0.00)</td>\n",
       "    </tr>\n",
       "    <tr>\n",
       "      <th>17</th>\n",
       "      <td>OdorG</td>\n",
       "      <td>2</td>\n",
       "      <td>5</td>\n",
       "      <td>5/5 (1.00)</td>\n",
       "      <td>2 (0.40)</td>\n",
       "      <td>1 (0.20)</td>\n",
       "      <td>2 (0.40)</td>\n",
       "    </tr>\n",
       "    <tr>\n",
       "      <th>18</th>\n",
       "      <td>OdorG</td>\n",
       "      <td>3</td>\n",
       "      <td>1</td>\n",
       "      <td>1/1 (1.00)</td>\n",
       "      <td>1 (1.00)</td>\n",
       "      <td>0 (0.00)</td>\n",
       "      <td>0 (0.00)</td>\n",
       "    </tr>\n",
       "    <tr>\n",
       "      <th>19</th>\n",
       "      <td>OdorG</td>\n",
       "      <td>4</td>\n",
       "      <td>3</td>\n",
       "      <td>2/3 (0.67)</td>\n",
       "      <td>1 (0.33)</td>\n",
       "      <td>0 (0.00)</td>\n",
       "      <td>1 (0.33)</td>\n",
       "    </tr>\n",
       "  </tbody>\n",
       "</table>\n",
       "</div>"
      ],
      "text/plain": [
       "     Odor  Position  Total Abortions FA Abortion Rate FA Time In FA Time Out  \\\n",
       "0   OdorA         5                2       2/2 (1.00)   1 (0.50)    1 (0.50)   \n",
       "1   OdorB         5                2       2/2 (1.00)   2 (1.00)    0 (0.00)   \n",
       "2   OdorC         1                1       1/1 (1.00)   0 (0.00)    0 (0.00)   \n",
       "3   OdorC         2                5       4/5 (0.80)   2 (0.40)    0 (0.00)   \n",
       "4   OdorC         3                2       2/2 (1.00)   0 (0.00)    1 (0.50)   \n",
       "5   OdorC         4                5       5/5 (1.00)   2 (0.40)    1 (0.20)   \n",
       "6   OdorD         1                1       1/1 (1.00)   0 (0.00)    0 (0.00)   \n",
       "7   OdorD         3                5       5/5 (1.00)   0 (0.00)    3 (0.60)   \n",
       "8   OdorD         4                1       1/1 (1.00)   0 (0.00)    1 (1.00)   \n",
       "9   OdorE         1                1       1/1 (1.00)   1 (1.00)    0 (0.00)   \n",
       "10  OdorE         2                2       2/2 (1.00)   0 (0.00)    2 (1.00)   \n",
       "11  OdorE         3                4       3/4 (0.75)   2 (0.50)    1 (0.25)   \n",
       "12  OdorE         4                1       1/1 (1.00)   1 (1.00)    0 (0.00)   \n",
       "13  OdorF         1                2       2/2 (1.00)   0 (0.00)    2 (1.00)   \n",
       "14  OdorF         2                6       6/6 (1.00)   0 (0.00)    1 (0.17)   \n",
       "15  OdorF         3                2       2/2 (1.00)   1 (0.50)    0 (0.00)   \n",
       "16  OdorF         4                3       3/3 (1.00)   3 (1.00)    0 (0.00)   \n",
       "17  OdorG         2                5       5/5 (1.00)   2 (0.40)    1 (0.20)   \n",
       "18  OdorG         3                1       1/1 (1.00)   1 (1.00)    0 (0.00)   \n",
       "19  OdorG         4                3       2/3 (0.67)   1 (0.33)    0 (0.00)   \n",
       "\n",
       "     FA Late  \n",
       "0   0 (0.00)  \n",
       "1   0 (0.00)  \n",
       "2   1 (1.00)  \n",
       "3   2 (0.40)  \n",
       "4   1 (0.50)  \n",
       "5   2 (0.40)  \n",
       "6   1 (1.00)  \n",
       "7   2 (0.40)  \n",
       "8   0 (0.00)  \n",
       "9   0 (0.00)  \n",
       "10  0 (0.00)  \n",
       "11  0 (0.00)  \n",
       "12  0 (0.00)  \n",
       "13  0 (0.00)  \n",
       "14  5 (0.83)  \n",
       "15  1 (0.50)  \n",
       "16  0 (0.00)  \n",
       "17  2 (0.40)  \n",
       "18  0 (0.00)  \n",
       "19  1 (0.33)  "
      ]
     },
     "metadata": {},
     "output_type": "display_data"
    }
   ],
   "source": [
    "fa_abortion_stats_results = fa_abortion_stats(results)"
   ]
  }
 ],
 "metadata": {
  "kernelspec": {
   "display_name": "hypnose",
   "language": "python",
   "name": "python3"
  },
  "language_info": {
   "codemirror_mode": {
    "name": "ipython",
    "version": 3
   },
   "file_extension": ".py",
   "mimetype": "text/x-python",
   "name": "python",
   "nbconvert_exporter": "python",
   "pygments_lexer": "ipython3",
   "version": "3.12.11"
  }
 },
 "nbformat": 4,
 "nbformat_minor": 2
}
