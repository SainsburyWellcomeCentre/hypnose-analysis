{
 "cells": [
  {
   "cell_type": "code",
   "execution_count": 10,
   "metadata": {},
   "outputs": [
    {
     "name": "stdout",
     "output_type": "stream",
     "text": [
      "The autoreload extension is already loaded. To reload it, use:\n",
      "  %reload_ext autoreload\n"
     ]
    }
   ],
   "source": [
    "%load_ext autoreload\n",
    "%autoreload 2\n",
    "import sys\n",
    "import os\n",
    "project_root = os.path.abspath(\"/Users/joschua/repos/harris_lab/hypnose/hypnose_analysis\")\n",
    "if project_root not in sys.path:\n",
    "    sys.path.append(project_root)\n",
    "import pandas as pd\n",
    "import numpy as np \n",
    "import utils\n",
    "from utils import *\n",
    "from pathlib import Path\n",
    "import harp\n",
    "import matplotlib.pyplot as plt\n",
    "import matplotlib.dates as mdates\n",
    "import matplotlib.ticker as mticker\n",
    "import aeon.io.video as video\n",
    "from ipywidgets import widgets\n",
    "from IPython.display import display\n",
    "import re\n",
    "import os\n",
    "import zoneinfo\n",
    "from datetime import datetime, timezone\n",
    "from functools import reduce\n",
    "from src.processing import detect_settings\n",
    "import src.processing.detect_stage as detect_stage_module\n",
    "\n",
    "%matplotlib widget"
   ]
  },
  {
   "cell_type": "code",
   "execution_count": 7,
   "metadata": {},
   "outputs": [
    {
     "name": "stdout",
     "output_type": "stream",
     "text": [
      "Loaded experiment: /Volumes/harris/hypnose/rawdata/sub-026_id-077/ses-93_date-20250730/behav/2025-07-30T14-00-21\n",
      "Found sequence name: QuintupleA_Stage7\n"
     ]
    }
   ],
   "source": [
    "# Loading experiments --> just define the SUBJID and DATE\n",
    "root = load_experiment(26, 20250730) #can add index for multiple experiments; index=0 as default\n",
    "stage = detect_stage_module.detect_stage(root)"
   ]
  },
  {
   "cell_type": "code",
   "execution_count": 8,
   "metadata": {},
   "outputs": [
    {
     "name": "stdout",
     "output_type": "stream",
     "text": [
      "Loading data streams from: /Volumes/harris/hypnose/rawdata/sub-026_id-077/ses-93_date-20250730/behav/2025-07-30T14-00-21\n",
      "Loaded heartbeat data\n",
      "Calculated real-time offset: 44398 days, 15:43:08\n",
      "Created timestamp interpolation mapping\n",
      "Loaded digital_input_data\n",
      "Loaded output_set\n",
      "Loaded output_clear\n",
      "Loaded olfactometer_valves_0\n",
      "Loaded olfactometer_valves_1\n",
      "Loaded olfactometer_end_0\n",
      "Loaded analog_data\n",
      "Loaded flow_meter\n",
      "Loaded video_data\n",
      "Loaded pulse_supply_1\n",
      "Loaded pulse_supply_2\n",
      "Created odour_led\n",
      "\n",
      "Applying time corrections to all data streams...\n",
      "Applied correction to digital_input_data\n",
      "Applied correction to output_set\n",
      "Applied correction to output_clear\n",
      "Applied correction to olfactometer_valves_0\n",
      "Applied correction to olfactometer_valves_1\n",
      "Applied correction to olfactometer_end_0\n",
      "Applied correction to analog_data\n",
      "Applied correction to flow_meter\n",
      "Applied correction to video_data\n",
      "Applied correction to pulse_supply_1\n",
      "Applied correction to pulse_supply_2\n",
      "Applied correction to odour_led\n",
      "Skipped heartbeat (not datetime index)\n",
      "\n",
      "Data loading complete! Loaded 19 streams successfully.\n"
     ]
    }
   ],
   "source": [
    "data = load_all_streams(root)"
   ]
  },
  {
   "cell_type": "code",
   "execution_count": 13,
   "metadata": {},
   "outputs": [
    {
     "name": "stdout",
     "output_type": "stream",
     "text": [
      "Loading experiment events...\n",
      "Loaded heartbeat data for timing synchronization\n",
      "Calculated real-time offset: 44398 days, 15:43:08\n",
      "Created timestamp interpolation mapping\n",
      "Found 4 experiment event files\n",
      "Processing event file: ExperimentEvents_1904-01-09T00-00-00.csv with 471 rows\n",
      "Using Seconds column with interpolation\n",
      "Applied real-time offset: 44398 days, 15:43:08\n",
      "Found Value column with values: ['EndInitiation' 'Reset' 'ChooseRandomSequence' 'SampleRewardCondition'\n",
      " 'InitiationSequence' 'AwaitReward']\n",
      "Found 88 EndInitiation events\n",
      "Found 88 InitiationSequence events\n",
      "Found 88 Reset events\n",
      "Found 31 AwaitReward events\n",
      "Found 88 SampleRewardCondition events\n",
      "Found 88 ChooseRandomSequence events\n",
      "Processing event file: ExperimentEvents_1904-01-08T23-00-00.csv with 546 rows\n",
      "Using Seconds column with interpolation\n",
      "Applied real-time offset: 44398 days, 15:43:08\n",
      "Found Value column with values: ['ChooseRandomSequence' 'SampleRewardCondition' 'InitiationSequence'\n",
      " 'EndInitiation' 'AwaitReward' 'Reset']\n",
      "Found 98 EndInitiation events\n",
      "Found 99 InitiationSequence events\n",
      "Found 98 Reset events\n",
      "Found 53 AwaitReward events\n",
      "Found 99 SampleRewardCondition events\n",
      "Found 99 ChooseRandomSequence events\n",
      "Processing event file: ExperimentEvents_1904-01-09T01-00-00.csv with 652 rows\n",
      "Using Seconds column with interpolation\n",
      "Applied real-time offset: 44398 days, 15:43:08\n",
      "Found Value column with values: ['EndInitiation' 'Reset' 'ChooseRandomSequence' 'SampleRewardCondition'\n",
      " 'InitiationSequence' 'AwaitReward']\n",
      "Found 125 EndInitiation events\n",
      "Found 124 InitiationSequence events\n",
      "Found 125 Reset events\n",
      "Found 30 AwaitReward events\n",
      "Found 124 SampleRewardCondition events\n",
      "Found 124 ChooseRandomSequence events\n",
      "Processing event file: ExperimentEvents_1904-01-09T02-00-00.csv with 163 rows\n",
      "Using Seconds column with interpolation\n",
      "Applied real-time offset: 44398 days, 15:43:08\n",
      "Found Value column with values: ['ChooseRandomSequence' 'SampleRewardCondition' 'InitiationSequence'\n",
      " 'EndInitiation' 'Reset' 'AwaitReward']\n",
      "Found 30 EndInitiation events\n",
      "Found 31 InitiationSequence events\n",
      "Found 30 Reset events\n",
      "Found 10 AwaitReward events\n",
      "Found 31 SampleRewardCondition events\n",
      "Found 31 ChooseRandomSequence events\n",
      "Combined 342 InitiationSequence events\n",
      "Combined 341 EndInitiation events\n",
      "Combined 124 AwaitReward events\n",
      "Combined 341 Reset events\n",
      "Combined 342 ChooseRandomSequence events\n",
      "Combined 342 SampleRewardCondition events\n",
      "Experiment events loading complete! All events synchronized with load_all_streams timing.\n"
     ]
    }
   ],
   "source": [
    "events = load_experiment_events(root)"
   ]
  },
  {
   "cell_type": "code",
   "execution_count": 16,
   "metadata": {},
   "outputs": [
    {
     "name": "stdout",
     "output_type": "stream",
     "text": [
      "=== END INITIATION EVENTS ===\n",
      "Shape: (341, 2)\n",
      "Columns: ['Time', 'EndInitiation']\n",
      "\n",
      "First 5 events:\n",
      "                        Time  EndInitiation\n",
      "0 2025-07-30 15:01:06.564992           True\n",
      "1 2025-07-30 15:01:40.204000           True\n",
      "2 2025-07-30 15:01:46.348992           True\n",
      "3 2025-07-30 15:01:51.214976           True\n",
      "4 2025-07-30 15:01:58.142976           True\n",
      "\n",
      "Time range:\n",
      "First event: 2025-07-30 15:01:06.564992\n",
      "Last event: 2025-07-30 17:51:21.785984\n",
      "Total duration: 0 days 02:50:15.220992\n",
      "Total events: 341\n"
     ]
    }
   ],
   "source": [
    "# Get EndInitiation events\n",
    "end_initiation_df = events['combined_end_initiation_df']\n",
    "\n",
    "# Print header info\n",
    "print(\"=== END INITIATION EVENTS ===\")\n",
    "print(f\"Shape: {end_initiation_df.shape}\")\n",
    "print(f\"Columns: {end_initiation_df.columns.tolist()}\")\n",
    "\n",
    "# Show first few rows\n",
    "print(\"\\nFirst 5 events:\")\n",
    "print(end_initiation_df.head())\n",
    "\n",
    "# Time range\n",
    "if not end_initiation_df.empty:\n",
    "    times = end_initiation_df['Time']\n",
    "    print(f\"\\nTime range:\")\n",
    "    print(f\"First event: {times.iloc[0]}\")\n",
    "    print(f\"Last event: {times.iloc[-1]}\")\n",
    "    print(f\"Total duration: {times.iloc[-1] - times.iloc[0]}\")\n",
    "    print(f\"Total events: {len(times)}\")\n",
    "else:\n",
    "    print(\"\\nNo EndInitiation events found!\")"
   ]
  }
 ],
 "metadata": {
  "kernelspec": {
   "display_name": "hypnose",
   "language": "python",
   "name": "python3"
  },
  "language_info": {
   "codemirror_mode": {
    "name": "ipython",
    "version": 3
   },
   "file_extension": ".py",
   "mimetype": "text/x-python",
   "name": "python",
   "nbconvert_exporter": "python",
   "pygments_lexer": "ipython3",
   "version": "3.12.11"
  }
 },
 "nbformat": 4,
 "nbformat_minor": 2
}
