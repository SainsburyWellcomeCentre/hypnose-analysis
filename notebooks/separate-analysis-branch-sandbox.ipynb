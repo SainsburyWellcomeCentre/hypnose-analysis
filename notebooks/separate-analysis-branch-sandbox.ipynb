{
 "cells": [
  {
   "cell_type": "code",
   "execution_count": null,
   "id": "5675b528",
   "metadata": {},
   "outputs": [
    {
     "name": "stdout",
     "output_type": "stream",
     "text": [
      "Found 5 experiment event files\n",
      "Processing event file: ExperimentEvents_1904-04-20T20-00-00.csv with 2178 rows\n",
      "Found Value column with values: ['EndInitiation' 'AwaitReward' 'Reset' 'ChooseRandomSequence'\n",
      " 'SampleRewardCondition' 'InitiationSequence']\n",
      "Found 363 EndInitiation events\n",
      "Found 363 InitiationSequence events\n",
      "Found 363 AwaitReward events\n",
      "Found 363 Reset events\n",
      "Processing event file: ExperimentEvents_1904-04-20T22-00-00.csv with 1890 rows\n",
      "Found Value column with values: ['EndInitiation' 'AwaitReward' 'Reset' 'ChooseRandomSequence'\n",
      " 'SampleRewardCondition' 'InitiationSequence']\n",
      "Found 315 EndInitiation events\n",
      "Found 315 InitiationSequence events\n",
      "Found 315 AwaitReward events\n",
      "Found 315 Reset events\n",
      "Processing event file: ExperimentEvents_1904-04-20T21-00-00.csv with 1686 rows\n",
      "Found Value column with values: ['EndInitiation' 'AwaitReward' 'Reset' 'ChooseRandomSequence'\n",
      " 'SampleRewardCondition' 'InitiationSequence']\n",
      "Found 281 EndInitiation events\n",
      "Found 281 InitiationSequence events\n",
      "Found 281 AwaitReward events\n",
      "Found 281 Reset events\n",
      "Error processing event file ._ExperimentEvents_1904-04-20T20-00-00.csv: 'utf-8' codec can't decode byte 0xb0 in position 37: invalid start byte\n",
      "Processing event file: ExperimentEvents_1904-04-20T23-00-00.csv with 1584 rows\n",
      "Found Value column with values: ['EndInitiation' 'AwaitReward' 'Reset' 'ChooseRandomSequence'\n",
      " 'SampleRewardCondition' 'InitiationSequence']\n",
      "Found 264 EndInitiation events\n",
      "Found 264 InitiationSequence events\n",
      "Found 264 AwaitReward events\n",
      "Found 264 Reset events\n",
      "/Volumes/harris/hypnose/rawdata/sub-020_id-072/ses-74_date-20250707/behav/2025-07-07T13-49-21/SessionSettings/SessionSettings_*.jsonl\n"
     ]
    }
   ],
   "source": [
    "# Import loaders and concatenator\n",
    "from src.io.loaders import load_session_data, SessionDataLoader\n",
    "from src.io.concatenator import concatenate_session_recordings\n",
    "\n",
    "# Example 1: Load a single recording (existing functionality)\n",
    "single_recording_data = load_session_data('/Volumes/harris/hypnose/rawdata/sub-020_id-072/ses-74_date-20250707/behav/2025-07-07T13-49-21')"
   ]
  },
  {
   "cell_type": "code",
   "execution_count": null,
   "id": "2c437d6c",
   "metadata": {},
   "outputs": [
    {
     "name": "stdout",
     "output_type": "stream",
     "text": [
      "Session data keys: ['session_path', 'session_id', 'raw_data', 'processed_events', 'session_metrics']\n",
      "\n",
      "Raw data keys: ['behavior', 'olfactometer', 'experiment_events', 'metadata']\n",
      "\n",
      "Processed events keys: ['end_initiation', 'initiation_sequence', 'await_reward', 'reset']\n",
      "\n",
      "Session metrics: {'session_start': Timestamp('1904-04-20 20:07:09'), 'session_end': Timestamp('1904-04-20 23:49:24'), 'session_duration': Timedelta('0 days 03:42:15'), 'DIPort0_activations': 3763, 'DIPort1_activations': 561, 'DIPort2_activations': 460, 'reward_1_count': 159, 'reward_2_count': 106}\n"
     ]
    }
   ],
   "source": [
    "# Explore the single recording data structure\n",
    "print(\"Single recording data keys:\", list(single_recording_data.keys()))\n",
    "print(\"\\nRaw data keys:\", list(single_recording_data['raw_data'].keys()))\n",
    "print(\"\\nProcessed events keys:\", list(single_recording_data['processed_events'].keys()))\n",
    "print(\"\\nSession metrics:\", single_recording_data['session_metrics'])"
   ]
  },
  {
   "cell_type": "code",
   "execution_count": null,
   "id": "5bccee09",
   "metadata": {},
   "outputs": [],
   "source": [
    "# Example 2A: Concatenate using session-level path (NEW - recommended approach)\n",
    "session_path = '/Volumes/harris/hypnose/rawdata/sub-020_id-072/ses-74_date-20250707'\n",
    "\n",
    "# Load and concatenate all recordings in the session\n",
    "concatenated_data_session = concatenate_session_recordings(session_path)"
   ]
  },
  {
   "cell_type": "code",
   "execution_count": null,
   "id": "66793f4a",
   "metadata": {},
   "outputs": [],
   "source": [
    "# Example 2B: Concatenate using behavioral folder path (existing functionality - still works)\n",
    "behav_session_path = '/Volumes/harris/hypnose/rawdata/sub-020_id-072/ses-74_date-20250707/behav'\n",
    "\n",
    "# Load and concatenate all recordings in the session\n",
    "concatenated_data_behav = concatenate_session_recordings(behav_session_path)"
   ]
  },
  {
   "cell_type": "code",
   "execution_count": null,
   "id": "21a4ea63",
   "metadata": {},
   "outputs": [],
   "source": [
    "# Verify both approaches give the same result\n",
    "print(\"Session-level approach:\")\n",
    "print(\"Concatenated data keys:\", list(concatenated_data_session.keys()))\n",
    "print(\"\\nRaw data keys:\", list(concatenated_data_session['raw_data'].keys()))\n",
    "print(f\"Number of recordings concatenated: {concatenated_data_session['recording_count']}\")\n",
    "\n",
    "print(\"\\nBehavioral folder approach:\")\n",
    "print(\"Concatenated data keys:\", list(concatenated_data_behav.keys()))\n",
    "print(\"\\nRaw data keys:\", list(concatenated_data_behav['raw_data'].keys()))\n",
    "print(f\"Number of recordings concatenated: {concatenated_data_behav['recording_count']}\")\n",
    "\n",
    "# Check if results are equivalent\n",
    "print(f\"\\nResults are equivalent: {concatenated_data_session['recording_count'] == concatenated_data_behav['recording_count']}\")"
   ]
  },
  {
   "cell_type": "code",
   "execution_count": null,
   "id": "2bbd834f",
   "metadata": {},
   "outputs": [],
   "source": [
    "# Example 3: Load specific data types only (works with both path formats)\n",
    "concatenated_behavior_only = concatenate_session_recordings(\n",
    "    session_path,  # Using session-level path\n",
    "    data_types=['behavior', 'experiment_events']\n",
    ")\n",
    "\n",
    "print(\"Loaded data types:\", list(concatenated_behavior_only['raw_data'].keys()))\n",
    "print(f\"Session path processed: {concatenated_behavior_only['session_path']}\")"
   ]
  },
  {
   "cell_type": "code",
   "execution_count": null,
   "id": "36629731",
   "metadata": {},
   "outputs": [],
   "source": [
    "# Example 4: Compare data sizes between single recording and concatenated session\n",
    "print(\"Data size comparison:\")\n",
    "print(\"\\nSingle recording:\")\n",
    "for key, data in single_recording_data['raw_data'].items():\n",
    "    if hasattr(data, 'get'):\n",
    "        for stream_name, df in data.items():\n",
    "            if hasattr(df, '__len__'):\n",
    "                print(f\"  {key}.{stream_name}: {len(df)} rows\")\n",
    "\n",
    "print(\"\\nConcatenated session (session-level path):\")\n",
    "for key, data in concatenated_data_session['raw_data'].items():\n",
    "    if hasattr(data, 'get'):\n",
    "        for stream_name, df in data.items():\n",
    "            if hasattr(df, '__len__'):\n",
    "                print(f\"  {key}.{stream_name}: {len(df)} rows\")"
   ]
  },
  {
   "cell_type": "code",
   "execution_count": null,
   "id": "ddc3fdaf",
   "metadata": {},
   "outputs": [],
   "source": [
    "# Example 5: Show path flexibility - works with different path formats\n",
    "test_paths = [\n",
    "    '/Volumes/harris/hypnose/rawdata/sub-020_id-072/ses-74_date-20250707',  # Session level\n",
    "    '/Volumes/harris/hypnose/rawdata/sub-020_id-072/ses-74_date-20250707/behav',  # Behavioral level\n",
    "]\n",
    "\n",
    "for i, path in enumerate(test_paths, 1):\n",
    "    try:\n",
    "        result = concatenate_session_recordings(path, data_types=['behavior'])\n",
    "        print(f\"Path format {i} successful: {result['recording_count']} recordings found\")\n",
    "        print(f\"  Session ID: {result['session_id']}\")\n",
    "        print(f\"  Session path: {result['session_path']}\")\n",
    "        print()\n",
    "    except Exception as e:\n",
    "        print(f\"Path format {i} failed: {e}\")\n",
    "        print()"
   ]
  },
  {
   "cell_type": "code",
   "execution_count": null,
   "id": "f913fae2",
   "metadata": {},
   "outputs": [],
   "source": [
    "# Example 6: Analyze concatenated session using existing analysis functions\n",
    "from src.analysis import get_decision_accuracy, get_response_time, get_false_alarm\n",
    "\n",
    "# Since concatenated_data_session contains all recordings, we can use it with analysis functions\n",
    "# Note: The analysis functions expect a path, so we'll use the individual recording path for demonstration\n",
    "individual_recording_path = '/Volumes/harris/hypnose/rawdata/sub-020_id-072/ses-74_date-20250707/behav/2025-07-07T13-49-21'\n",
    "\n",
    "print(\"Analysis of individual recording:\")\n",
    "accuracy = get_decision_accuracy(individual_recording_path)\n",
    "print(f\"Decision accuracy: {accuracy}\")\n",
    "\n",
    "response_time = get_response_time(individual_recording_path)\n",
    "print(f\"Response time summary: {response_time}\")\n",
    "\n",
    "false_alarms = get_false_alarm(individual_recording_path)\n",
    "print(f\"False alarms: {false_alarms}\")"
   ]
  },
  {
   "cell_type": "code",
   "execution_count": null,
   "id": "175ec685",
   "metadata": {},
   "outputs": [],
   "source": [
    "# Example 7: Explore concatenated session structure in detail\n",
    "print(\"Concatenated session detailed structure:\")\n",
    "print(f\"Session ID: {concatenated_data_session['session_id']}\")\n",
    "print(f\"Recording count: {concatenated_data_session['recording_count']}\")\n",
    "print(f\"Session path: {concatenated_data_session['session_path']}\")\n",
    "\n",
    "print(\"\\nSession metrics:\")\n",
    "for key, value in concatenated_data_session['session_metrics'].items():\n",
    "    print(f\"  {key}: {value}\")\n",
    "\n",
    "print(\"\\nProcessed events summary:\")\n",
    "for event_type, event_df in concatenated_data_session['processed_events'].items():\n",
    "    print(f\"  {event_type}: {len(event_df)} events\")\n",
    "\n",
    "print(\"\\nRaw data summary:\")\n",
    "for data_type, data_dict in concatenated_data_session['raw_data'].items():\n",
    "    print(f\"  {data_type}:\")\n",
    "    if hasattr(data_dict, 'get'):\n",
    "        for stream_name, df in data_dict.items():\n",
    "            if hasattr(df, '__len__') and stream_name != 'source_path' and stream_name != 'loader_type':\n",
    "                print(f\"    {stream_name}: {len(df)} rows\")"
   ]
  },
  {
   "cell_type": "markdown",
   "id": "900923e7",
   "metadata": {},
   "source": [
    "## Summary\n",
    "\n",
    "The concatenation functionality provides:\n",
    "\n",
    "1. **Flexible path input**: Can accept either session-level paths (`/ses-XX_date-YYYYMMDD`) or behavioral folder paths (`/ses-XX_date-YYYYMMDD/behav`)\n",
    "\n",
    "2. **Automatic discovery**: Finds all timestamp-based recording directories within a session\n",
    "\n",
    "3. **Data type selection**: Can load all data types or just specific ones (e.g., `['behavior', 'experiment_events']`)\n",
    "\n",
    "4. **Temporal ordering**: Automatically sorts recordings chronologically and maintains time order in concatenated data\n",
    "\n",
    "5. **Robust handling**: Gracefully handles missing data streams and failed recordings\n",
    "\n",
    "6. **Metadata preservation**: Combines session metrics and adds concatenation information\n",
    "\n",
    "7. **Backward compatibility**: Works with existing loader infrastructure and analysis functions\n",
    "\n",
    "This makes it easy to analyze complete experimental sessions that span multiple recording files."
   ]
  }
 ],
 "metadata": {
  "kernelspec": {
   "display_name": "hypnose-processing",
   "language": "python",
   "name": "python3"
  },
  "language_info": {
   "codemirror_mode": {
    "name": "ipython",
    "version": 3
   },
   "file_extension": ".py",
   "mimetype": "text/x-python",
   "name": "python",
   "nbconvert_exporter": "python",
   "pygments_lexer": "ipython3",
   "version": "3.12.9"
  }
 },
 "nbformat": 4,
 "nbformat_minor": 5
}
