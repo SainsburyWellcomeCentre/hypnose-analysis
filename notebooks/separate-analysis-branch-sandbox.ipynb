{
 "cells": [
  {
   "cell_type": "code",
   "execution_count": 1,
   "id": "5675b528",
   "metadata": {},
   "outputs": [
    {
     "name": "stdout",
     "output_type": "stream",
     "text": [
      "Found 5 experiment event files\n",
      "Processing event file: ExperimentEvents_1904-04-20T20-00-00.csv with 2178 rows\n",
      "Found Value column with values: ['EndInitiation' 'AwaitReward' 'Reset' 'ChooseRandomSequence'\n",
      " 'SampleRewardCondition' 'InitiationSequence']\n",
      "Found 363 EndInitiation events\n",
      "Found 363 InitiationSequence events\n",
      "Found 363 AwaitReward events\n",
      "Found 363 Reset events\n",
      "Processing event file: ExperimentEvents_1904-04-20T22-00-00.csv with 1890 rows\n",
      "Found Value column with values: ['EndInitiation' 'AwaitReward' 'Reset' 'ChooseRandomSequence'\n",
      " 'SampleRewardCondition' 'InitiationSequence']\n",
      "Found 315 EndInitiation events\n",
      "Found 315 InitiationSequence events\n",
      "Found 315 AwaitReward events\n",
      "Found 315 Reset events\n",
      "Processing event file: ExperimentEvents_1904-04-20T21-00-00.csv with 1686 rows\n",
      "Found Value column with values: ['EndInitiation' 'AwaitReward' 'Reset' 'ChooseRandomSequence'\n",
      " 'SampleRewardCondition' 'InitiationSequence']\n",
      "Found 281 EndInitiation events\n",
      "Found 281 InitiationSequence events\n",
      "Found 281 AwaitReward events\n",
      "Found 281 Reset events\n",
      "Error processing event file ._ExperimentEvents_1904-04-20T20-00-00.csv: 'utf-8' codec can't decode byte 0xb0 in position 37: invalid start byte\n",
      "Processing event file: ExperimentEvents_1904-04-20T23-00-00.csv with 1584 rows\n",
      "Found Value column with values: ['EndInitiation' 'AwaitReward' 'Reset' 'ChooseRandomSequence'\n",
      " 'SampleRewardCondition' 'InitiationSequence']\n",
      "Found 264 EndInitiation events\n",
      "Found 264 InitiationSequence events\n",
      "Found 264 AwaitReward events\n",
      "Found 264 Reset events\n",
      "/Volumes/harris/hypnose/rawdata/sub-020_id-072/ses-74_date-20250707/behav/2025-07-07T13-49-21/SessionSettings/SessionSettings_*.jsonl\n"
     ]
    }
   ],
   "source": [
    "# In your analysis scripts\n",
    "from src.io.loaders import load_session_data, SessionDataLoader\n",
    "\n",
    "# Load complete session data\n",
    "session_data = load_session_data('/Volumes/harris/hypnose/rawdata/sub-020_id-072/ses-74_date-20250707/behav/2025-07-07T13-49-21')"
   ]
  },
  {
   "cell_type": "code",
   "execution_count": 2,
   "id": "2c437d6c",
   "metadata": {},
   "outputs": [
    {
     "name": "stdout",
     "output_type": "stream",
     "text": [
      "Session data keys: ['session_path', 'session_id', 'raw_data', 'processed_events', 'session_metrics']\n",
      "\n",
      "Raw data keys: ['behavior', 'olfactometer', 'experiment_events', 'metadata']\n",
      "\n",
      "Processed events keys: ['end_initiation', 'initiation_sequence', 'await_reward', 'reset']\n",
      "\n",
      "Session metrics: {'session_start': Timestamp('1904-04-20 20:07:09'), 'session_end': Timestamp('1904-04-20 23:49:24'), 'session_duration': Timedelta('0 days 03:42:15'), 'DIPort0_activations': 3763, 'DIPort1_activations': 561, 'DIPort2_activations': 460, 'reward_1_count': 159, 'reward_2_count': 106}\n"
     ]
    }
   ],
   "source": [
    "# Explore the loaded session data structure\n",
    "print(\"Session data keys:\", list(session_data.keys()))\n",
    "print(\"\\nRaw data keys:\", list(session_data['raw_data'].keys()))\n",
    "print(\"\\nProcessed events keys:\", list(session_data['processed_events'].keys()))\n",
    "print(\"\\nSession metrics:\", session_data['session_metrics'])"
   ]
  }
 ],
 "metadata": {
  "kernelspec": {
   "display_name": "hypnose-processing",
   "language": "python",
   "name": "python3"
  },
  "language_info": {
   "codemirror_mode": {
    "name": "ipython",
    "version": 3
   },
   "file_extension": ".py",
   "mimetype": "text/x-python",
   "name": "python",
   "nbconvert_exporter": "python",
   "pygments_lexer": "ipython3",
   "version": "3.12.9"
  }
 },
 "nbformat": 4,
 "nbformat_minor": 5
}
